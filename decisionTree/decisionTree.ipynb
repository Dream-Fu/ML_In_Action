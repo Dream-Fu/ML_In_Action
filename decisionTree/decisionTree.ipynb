{
 "cells": [
  {
   "cell_type": "markdown",
   "metadata": {},
   "source": [
    "# 决策树的构造\n",
    "## 决策树的特点\n",
    "* 可以处理不熟悉的数据集合\n",
    "* 可以理解数据中蕴含的知识信息"
   ]
  },
  {
   "cell_type": "markdown",
   "metadata": {},
   "source": [
    "## 决策树构造的步骤\n",
    "### Step 1：学习计算信息增益——以熵为例"
   ]
  },
  {
   "cell_type": "markdown",
   "metadata": {},
   "source": [
    "* 准备数据"
   ]
  },
  {
   "cell_type": "code",
   "execution_count": 1,
   "metadata": {},
   "outputs": [],
   "source": [
    "def create_dataset():\n",
    "    dataset = [[1, 1, 'yes'], \n",
    "               [1, 1, 'yes'],\n",
    "               [1, 0, 'no'],\n",
    "               [0, 1, 'no'],\n",
    "               [0, 1, 'no']]\n",
    "    labels = ['no surfacing', 'flippers']\n",
    "    return dataset, labels"
   ]
  },
  {
   "cell_type": "markdown",
   "metadata": {},
   "source": [
    "计算给定数据集的熵\n",
    "\n",
    "计算所有类别所有可能值包含的期望\n",
    "$H = -\\sum_{i = 1}^n p(x_{i})log_{2}p(x_{i})$\n",
    "\n",
    "其中，$p(x_{i})$是选择该分类概率\n",
    "$p(x_{i}) = \\frac{该类总数}{数据集记录数}$"
   ]
  },
  {
   "cell_type": "code",
   "execution_count": 2,
   "metadata": {},
   "outputs": [
    {
     "data": {
      "text/plain": [
       "0.9709505944546686"
      ]
     },
     "execution_count": 2,
     "metadata": {},
     "output_type": "execute_result"
    }
   ],
   "source": [
    "from math import log\n",
    "\n",
    "\n",
    "def calc_ent(dataset):\n",
    "    total_entry = len(dataset)\n",
    "    label_count = {}\n",
    "    for feature in dataset:\n",
    "        cur_label = feature[-1]\n",
    "#         print(cur_label)\n",
    "        if cur_label not in label_count.keys():\n",
    "            label_count[cur_label] = 0\n",
    "        label_count[cur_label] += 1\n",
    "    entropy = 0.0\n",
    "    for key in label_count.keys():\n",
    "        prob = float(label_count[key]) / total_entry\n",
    "        entropy -= prob * log(prob, 2)\n",
    "    return entropy\n",
    "\n",
    "\n",
    "mydata, label = create_dataset()            \n",
    "calc_ent(mydata)  "
   ]
  },
  {
   "cell_type": "markdown",
   "metadata": {},
   "source": [
    "### Step 2：对每个特征划分数据集，度量划分数据集的熵，选取熵最小的特征划分作为本次划分结果\n",
    "* 划分数据集，提取符合条件的数据，并删除此次判断的属性列"
   ]
  },
  {
   "cell_type": "code",
   "execution_count": 3,
   "metadata": {},
   "outputs": [
    {
     "name": "stdout",
     "output_type": "stream",
     "text": [
      "[[1, 'no'], [1, 'no']]\n",
      "[[1, 'yes'], [1, 'yes'], [0, 'no']]\n"
     ]
    }
   ],
   "source": [
    "import numpy as np\n",
    "def split_dataset(dataset, axis, value):\n",
    "    temp_dataset = []\n",
    "    for vec in dataset:\n",
    "        if vec[axis] == value:\n",
    "            reduce_feature = vec[: axis]\n",
    "            reduce_feature.extend(vec[axis + 1 :])\n",
    "            temp_dataset.append(reduce_feature)\n",
    "    return temp_dataset\n",
    "\n",
    "\n",
    "mydata, mylabel = create_dataset()\n",
    "print(split_dataset(mydata, 0, 0))\n",
    "print(split_dataset(mydata, 0, 1))"
   ]
  },
  {
   "cell_type": "markdown",
   "metadata": {},
   "source": [
    "### Step 3：选择最好的分类方式——熵减的集合优先\n",
    "* 对每一个特征进行以此划分，并且记录熵值，选择熵最小的特征作为划分结果"
   ]
  },
  {
   "cell_type": "code",
   "execution_count": 4,
   "metadata": {},
   "outputs": [
    {
     "name": "stdout",
     "output_type": "stream",
     "text": [
      "当前对第0个特征进行分组，信息增益为0.419973\n",
      "当前对第1个特征进行分组，信息增益为0.170951\n"
     ]
    },
    {
     "data": {
      "text/plain": [
       "0"
      ]
     },
     "execution_count": 4,
     "metadata": {},
     "output_type": "execute_result"
    }
   ],
   "source": [
    "def choose_feature(dataset):\n",
    "    total_feature = len(dataset[0]) - 1 # 最后一列为结果集\n",
    "    base_entrop = calc_ent(dataset)\n",
    "    best_info_gain = 0.0\n",
    "    best_feature = -1\n",
    "    for feature in range(total_feature): # 获取特征值\n",
    "        feature_list = [vec[feature] for vec in dataset]\n",
    "        feature_value = set(feature_list)\n",
    "        temp_prob = 0.0\n",
    "        for value in feature_value:     # 对同一特征的不同值进行划分\n",
    "            temp_dataset = split_dataset(dataset, feature, value)\n",
    "            prob = len(temp_dataset) / float(len(dataset))  # 选择此类别的概率\n",
    "            prob *= calc_ent(temp_dataset)\n",
    "            temp_prob += prob\n",
    "        info_gain = base_entrop - temp_prob\n",
    "        if info_gain > best_info_gain:\n",
    "            best_info_gain = info_gain\n",
    "            best_feature = feature\n",
    "        print('当前对第%d个特征进行分组，信息增益为%f' %(feature, info_gain))\n",
    "    return best_feature\n",
    "\n",
    "choose_feature(mydata)"
   ]
  },
  {
   "cell_type": "markdown",
   "metadata": {},
   "source": [
    "### Step 4：递归构造决策树——数据集的再划分"
   ]
  },
  {
   "cell_type": "code",
   "execution_count": 5,
   "metadata": {},
   "outputs": [],
   "source": [
    "def majority_ent(class_list):\n",
    "    class_count = {}\n",
    "    for vote in class_list:\n",
    "        if class_count[vote] == 0:\n",
    "            class_count[vote] = 0\n",
    "        class_count[vote] += 1\n",
    "    sorted_class = sorted(class_count.items(), class_count.itemgetter(1), reverse=True)\n",
    "    return sorted_class[0][0]\n"
   ]
  },
  {
   "cell_type": "code",
   "execution_count": 6,
   "metadata": {},
   "outputs": [],
   "source": [
    "def create_tree(dataset, label, i=0):\n",
    "    i += 1\n",
    "    print('第%d次循环' %i)\n",
    "    class_list = [example[-1] for example in dataset]\n",
    "    \n",
    "    if class_list.count(class_list[0]) == len(class_list):\n",
    "        print('所有的类标签值完全相同，分类结束')\n",
    "        return class_list[0]\n",
    "    if len(dataset[0]) == 1:  #标签只剩一个\n",
    "        print('特征用完，无法再次分类')\n",
    "        return majority_ent(class_list)\n",
    "    \n",
    "    best_feature = choose_feature(dataset)\n",
    "    print('本次选择的特征为%d，标签为%s' %(best_feature, label[best_feature]))\n",
    "    \n",
    "    best_feature_label = label[best_feature]\n",
    "    desicision_tree = {best_feature_label:{}}\n",
    "    del(label[best_feature])\n",
    "    \n",
    "    feature_value = [example[best_feature] for example in dataset]\n",
    "    unique_feature = set(feature_value)\n",
    "    for value in unique_feature:\n",
    "#         sublabel = label[:]\n",
    "        desicision_tree[best_feature_label][value] = create_tree(split_dataset(dataset, best_feature, value), label, i)\n",
    "    \n",
    "    return desicision_tree"
   ]
  },
  {
   "cell_type": "code",
   "execution_count": 7,
   "metadata": {},
   "outputs": [
    {
     "name": "stdout",
     "output_type": "stream",
     "text": [
      "第1次循环\n",
      "当前对第0个特征进行分组，信息增益为0.419973\n",
      "当前对第1个特征进行分组，信息增益为0.170951\n",
      "本次选择的特征为0，标签为no surfacing\n",
      "第2次循环\n",
      "所有的类标签值完全相同，分类结束\n",
      "第2次循环\n",
      "当前对第0个特征进行分组，信息增益为0.918296\n",
      "本次选择的特征为0，标签为flippers\n",
      "第3次循环\n",
      "所有的类标签值完全相同，分类结束\n",
      "第3次循环\n",
      "所有的类标签值完全相同，分类结束\n"
     ]
    }
   ],
   "source": [
    "mytree = create_tree(mydata, mylabel)"
   ]
  },
  {
   "cell_type": "markdown",
   "metadata": {},
   "source": [
    "## 使用matplotlib绘制决策树\n",
    "* 使用annotate函数进行文本注释"
   ]
  },
  {
   "cell_type": "code",
   "execution_count": 8,
   "metadata": {},
   "outputs": [],
   "source": [
    "import matplotlib.pyplot as plt\n",
    "from pylab import *  \n",
    "mpl.rcParams['font.sans-serif'] = ['SimHei'] \n",
    "\n",
    "\n",
    "decision_node = dict(boxstyle='sawtooth', fc='0.8')\n",
    "leaf_node = dict(boxstyle='round4', fc='0.8')\n",
    "arrow_args = dict(arrowstyle='<-')\n",
    "\n",
    "def plot_node(ax, node_txt, center_point, parent_point, node_type):\n",
    "    ax.annotate(node_txt,\n",
    "                xy=parent_point, xycoords='axes fraction', \n",
    "                xytext=center_point, textcoords='axes fraction', \n",
    "                va='center', ha='center', bbox=node_type,\n",
    "                arrowprops=arrow_args)\n",
    "    \n",
    "def create_plot():\n",
    "    fig = plt.figure(1, facecolor='white')\n",
    "    fig.clf()\n",
    "    ax = plt.subplot(111, frameon=False)\n",
    "    plot_node(ax, '决策节点', (0.5, 0.1), (0.1, 0.5), decision_node)\n",
    "    plot_node(ax, '叶节点', (0.8, 0.1), (0.3, 0.8), leaf_node)\n",
    "    plt.show()"
   ]
  },
  {
   "cell_type": "code",
   "execution_count": 9,
   "metadata": {},
   "outputs": [
    {
     "data": {
      "image/png": "[encoded data removed]",
      "text/plain": [
       "<Figure size 432x288 with 1 Axes>"
      ]
     },
     "metadata": {},
     "output_type": "display_data"
    }
   ],
   "source": [
    "create_plot()"
   ]
  },
  {
   "cell_type": "markdown",
   "metadata": {},
   "source": [
    "### 绘制注解树的技巧\n",
    "**我们需要知道：**\n",
    "* 树的高度——确定y轴长度\n",
    "* 树的叶子——确定x轴长度"
   ]
  },
  {
   "cell_type": "code",
   "execution_count": 10,
   "metadata": {},
   "outputs": [],
   "source": [
    "def get_leaf_num(tree):\n",
    "    num_leaf = 0\n",
    "    first_str = list(tree.keys())[0]\n",
    "#     print(list(tree))\n",
    "    second_dic = tree[first_str]\n",
    "    for key in second_dic:\n",
    "        if type(second_dic[key]).__name__ == 'dict':\n",
    "            num_leaf += get_leaf_num(second_dic[key])\n",
    "        else:num_leaf += 1\n",
    "    return num_leaf"
   ]
  },
  {
   "cell_type": "code",
   "execution_count": 11,
   "metadata": {},
   "outputs": [
    {
     "data": {
      "text/plain": [
       "3"
      ]
     },
     "execution_count": 11,
     "metadata": {},
     "output_type": "execute_result"
    }
   ],
   "source": [
    "get_leaf_num(mytree)"
   ]
  },
  {
   "cell_type": "code",
   "execution_count": 12,
   "metadata": {},
   "outputs": [],
   "source": [
    "def get_tree_depth(tree):\n",
    "    max_depth = 0\n",
    "    this_depth = 0\n",
    "    first_str = list(tree)[0]\n",
    "    second_dic = tree[first_str]\n",
    "    for key in second_dic:\n",
    "        if type(second_dic[key]).__name__ == 'dict':\n",
    "            this_depth = 1 + get_tree_depth(second_dic[key])\n",
    "        else: this_depth = 1\n",
    "        if this_depth > max_depth:\n",
    "            max_depth = this_depth\n",
    "    return max_depth"
   ]
  },
  {
   "cell_type": "code",
   "execution_count": 13,
   "metadata": {
    "scrolled": true
   },
   "outputs": [
    {
     "data": {
      "text/plain": [
       "2"
      ]
     },
     "execution_count": 13,
     "metadata": {},
     "output_type": "execute_result"
    }
   ],
   "source": [
    "get_tree_depth(mytree)"
   ]
  },
  {
   "cell_type": "code",
   "execution_count": 14,
   "metadata": {},
   "outputs": [],
   "source": [
    "def retrieve_tree(i):\n",
    "    listOfTrees = [{'no surfacing': {0: 'no', 1: {'flippers': {0: 'no', 1: 'yes'}}}},\n",
    "                   {'no surfacing': {0: 'no', 1: {'flippers': {0: {'head': {0: 'no', 1: 'yes'}}, 1: 'no'}}}}\n",
    "                  ]\n",
    "    return listOfTrees[i]"
   ]
  },
  {
   "cell_type": "code",
   "execution_count": 15,
   "metadata": {},
   "outputs": [
    {
     "name": "stdout",
     "output_type": "stream",
     "text": [
      "3\n",
      "2\n"
     ]
    }
   ],
   "source": [
    "mytree = retrieve_tree(0)\n",
    "print(get_leaf_num(mytree))\n",
    "print(get_tree_depth(mytree))"
   ]
  },
  {
   "cell_type": "markdown",
   "metadata": {},
   "source": [
    "### 决策树的绘制 （待补）"
   ]
  },
  {
   "cell_type": "markdown",
   "metadata": {},
   "source": [
    "### 测试算法：使用决策树进行分类"
   ]
  },
  {
   "cell_type": "code",
   "execution_count": 16,
   "metadata": {},
   "outputs": [],
   "source": [
    "def classify(tree, feat_label, test_vec):\n",
    "    first_str = list(tree)[0]\n",
    "    second_dic = tree[first_str]\n",
    "    feat_index = feat_label.index(first_str)\n",
    "    for key in second_dic.keys():\n",
    "        if test_vec[feat_index] == key:\n",
    "            if type(second_dic[key]).__name__ == 'dict':\n",
    "#                 print(second_dic[key])\n",
    "                class_label = classify(second_dic[key], feat_label, test_vec)\n",
    "            else:\n",
    "                print(second_dic[key])\n",
    "                class_label = second_dic[key]\n",
    "    return class_label"
   ]
  },
  {
   "cell_type": "code",
   "execution_count": 18,
   "metadata": {},
   "outputs": [
    {
     "name": "stdout",
     "output_type": "stream",
     "text": [
      "no\n",
      "yes\n"
     ]
    }
   ],
   "source": [
    "mydata,label = create_dataset()\n",
    "mytree = retrieve_tree(0)\n",
    "classify(mytree, label, [1,0])\n",
    "classify(mytree, label, [1,1]);"
   ]
  },
  {
   "cell_type": "code",
   "execution_count": null,
   "metadata": {},
   "outputs": [],
   "source": []
  }
 ],
 "metadata": {
  "kernelspec": {
   "display_name": "Python 3",
   "language": "python",
   "name": "python3"
  },
  "language_info": {
   "codemirror_mode": {
    "name": "ipython",
    "version": 3
   },
   "file_extension": ".py",
   "mimetype": "text/x-python",
   "name": "python",
   "nbconvert_exporter": "python",
   "pygments_lexer": "ipython3",
   "version": "3.7.6"
  }
 },
 "nbformat": 4,
 "nbformat_minor": 4
}
