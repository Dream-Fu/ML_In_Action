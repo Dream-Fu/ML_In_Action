{
 "cells": [
  {
   "cell_type": "markdown",
   "metadata": {},
   "source": [
    "# 前言\n",
    "## 一些概念\n",
    "* **过拟合（*overfitting*），也称过学习。在一些分类算法中，训练错误率不断下降，但是测试错误率在达到了一个最小值之后又开始上升，这种现象称为过拟合。**\n",
    "\n",
    "* **正确率（*precision*）:预测为正例的样本数 / 真正正例的样本数**\n",
    "\n",
    "* **召回率（*recall*）:预测为正例的样本树中的真实正例数 / 真正正例的样本数**\n",
    "\n",
    "* **非均衡问题：在训练集(Trainingset)中，标签为“1“的类别比例极低。对于分类器不易识别少数我们想识别的数据项。**"
   ]
  },
  {
   "cell_type": "code",
   "execution_count": null,
   "metadata": {},
   "outputs": [],
   "source": []
  }
 ],
 "metadata": {
  "kernelspec": {
   "display_name": "Python 3",
   "language": "python",
   "name": "python3"
  },
  "language_info": {
   "codemirror_mode": {
    "name": "ipython",
    "version": 3
   },
   "file_extension": ".py",
   "mimetype": "text/x-python",
   "name": "python",
   "nbconvert_exporter": "python",
   "pygments_lexer": "ipython3",
   "version": "3.7.6"
  }
 },
 "nbformat": 4,
 "nbformat_minor": 4
}
