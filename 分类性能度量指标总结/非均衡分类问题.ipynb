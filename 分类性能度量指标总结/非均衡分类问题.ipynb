{
 "cells": [
  {
   "cell_type": "markdown",
   "metadata": {},
   "source": [
    "# 非均衡分类问题\n",
    "## 一些概念\n",
    "* **过拟合（*overfitting*），也称过学习。在一些分类算法中，训练错误率不断下降，但是测试错误率在达到了一个最小值之后又开始上升，这种现象称为过拟合。**\n",
    "\n",
    "\n",
    "* **正确率（*precision*）:预测为正例的样本数中真正正例的样本数 / 预测正例的样本数**\n",
    "\n",
    "\n",
    "* **召回率（*recall*）:预测为正例的样本树中的真实正例数 / 真正正例的样本数**\n",
    "\n",
    "\n",
    "* **非均衡问题：在训练集(Trainingset)中，标签为“1“的类别比例极低。对于分类器不易识别我们想识别的少数数据项。**\n",
    "\n",
    "\n",
    "* **ROC（*receiver operating characteristic*）曲线，接收者操作特征曲线。 ROC曲线给出的是当阈值变化时假阳率和真阳率的变化情况。**\n",
    "\n",
    "    **左下角的点所对应的是将所有样例判断为反例的情况，右上角的点对应的是所有样例判为正例的情况。**\n",
    "\n",
    "    **在理想情况下，最佳的分类器应该在左上角，这样意味着真阳率高，假阳率低。**\n",
    "    \n",
    "    **AUC（Area Under the Curve）曲线下的面积，对不同的ROC曲线进行比较的指标。**"
   ]
  },
  {
   "cell_type": "markdown",
   "metadata": {},
   "source": [
    "### ROC曲线的绘制以及AUC计算"
   ]
  },
  {
   "cell_type": "code",
   "execution_count": 1,
   "metadata": {},
   "outputs": [],
   "source": [
    "import matplotlib.pyplot as plt\n",
    "import numpy as np\n",
    "def plotROC(pred_strengths, class_lables):\n",
    "    cur = (1.0, 1.0)\n",
    "    y_sum = 0.0\n",
    "    num_pos_clas = sum(np.array(class_lables) == 1.0)\n",
    "    y_step = 1 / float(num_pos_clas)\n",
    "    x_step = 1 / float(len(class_lables) - num_pos_clas)\n",
    "    sorted_indic = pred_strengths.argsort()\n",
    "    fig = plt.figure()\n",
    "    fig.clf()\n",
    "    ax = plt.subplot(111)\n",
    "    for index in sorted_indic.tolist()[0]:\n",
    "        if class_lables[index] == 1.0:\n",
    "            del_x = 0\n",
    "            del_y = y_step\n",
    "        else:\n",
    "            del_x = x_step\n",
    "            del_y = 0\n",
    "            y_sum += cur[1]\n",
    "        ax.plot([cur[0], cur[0] - del_x], [cur[1], cur[1] - del_y], c='b')\n",
    "        cur = (cur[0] - del_x, cur[1] - del_y)\n",
    "    ax.plot([0, 1], [0, 1], 'b--')\n",
    "    plt.xlabel('false positive rate')\n",
    "    plt.ylabel('true positive rate')\n",
    "    plt.title('ROC curve for AdaBoost Horse Colic Detection System')\n",
    "    ax.axis([0, 1, 0, 1])\n",
    "    plt.show()\n",
    "    print('the AUC is :', y_sum * x_step)"
   ]
  },
  {
   "cell_type": "code",
   "execution_count": 2,
   "metadata": {},
   "outputs": [],
   "source": [
    "def loadDataSet(fileName):      #general function to parse tab -delimited floats\n",
    "    numFeat = len(open(fileName).readline().split('\\t')) #get number of fields \n",
    "    dataMat = []; labelMat = []\n",
    "    fr = open(fileName)\n",
    "    for line in fr.readlines():\n",
    "        lineArr =[]\n",
    "        curLine = line.strip().split('\\t')\n",
    "        for i in range(numFeat-1):\n",
    "            lineArr.append(float(curLine[i]))\n",
    "        dataMat.append(lineArr)\n",
    "        labelMat.append(float(curLine[-1]))\n",
    "    return dataMat,labelMat\n",
    "\n",
    "\n",
    "def stumpClassify(dataMatrix,dimen,threshVal,threshIneq):#just classify the data\n",
    "    retArray = np.ones((np.shape(dataMatrix)[0],1))\n",
    "    if threshIneq == 'lt':\n",
    "        retArray[dataMatrix[:,dimen] <= threshVal] = -1.0\n",
    "    else:\n",
    "        retArray[dataMatrix[:,dimen] > threshVal] = -1.0\n",
    "    return retArray\n",
    "    \n",
    "\n",
    "def buildStump(dataArr,classLabels,D):\n",
    "    dataMatrix = np.mat(dataArr); labelMat = np.mat(classLabels).T\n",
    "    m,n = np.shape(dataMatrix)\n",
    "    numSteps = 10.0; bestStump = {}; bestClasEst = np.mat(np.zeros((m,1)))\n",
    "    minError = np.inf #init error sum, to +infinity\n",
    "    for i in range(n):#loop over all dimensions\n",
    "        rangeMin = dataMatrix[:,i].min(); rangeMax = dataMatrix[:,i].max();\n",
    "        stepSize = (rangeMax-rangeMin)/numSteps\n",
    "        for j in range(-1,int(numSteps)+1):#loop over all range in current dimension\n",
    "            for inequal in ['lt', 'gt']: #go over less than and greater than\n",
    "                threshVal = (rangeMin + float(j) * stepSize)\n",
    "                predictedVals = stumpClassify(dataMatrix,i,threshVal,inequal)#call stump classify with i, j, lessThan\n",
    "                errArr = np.mat(np.ones((m,1)))\n",
    "                errArr[predictedVals == labelMat] = 0\n",
    "                weightedError = D.T*errArr  #calc total error multiplied by D\n",
    "#                 print(\"split: dim %d, thresh %.2f, thresh ineqal: %s, the weighted error is %.3f\" % (i, threshVal, inequal, weightedError))\n",
    "                if weightedError < minError:\n",
    "                    minError = weightedError\n",
    "                    bestClasEst = predictedVals.copy()\n",
    "                    bestStump['dim'] = i\n",
    "                    bestStump['thresh'] = threshVal\n",
    "                    bestStump['ineq'] = inequal\n",
    "    return bestStump,minError,bestClasEst"
   ]
  },
  {
   "cell_type": "code",
   "execution_count": 3,
   "metadata": {},
   "outputs": [
    {
     "data": {
      "image/png": "[encoded data removed]",
      "text/plain": [
       "<Figure size 432x288 with 1 Axes>"
      ]
     },
     "metadata": {
      "needs_background": "light"
     },
     "output_type": "display_data"
    },
    {
     "name": "stdout",
     "output_type": "stream",
     "text": [
      "the AUC is : 0.8582969635063604\n"
     ]
    }
   ],
   "source": [
    "def adaBoostTrainDS(dataArr,classLabels,numIt=40):\n",
    "    weakClassArr = []\n",
    "    m = np.shape(dataArr)[0]\n",
    "    D = np.mat(np.ones((m,1))/m)   #init D to all equal\n",
    "    aggClassEst = np.mat(np.zeros((m,1)))\n",
    "    for i in range(numIt):\n",
    "        bestStump,error,classEst = buildStump(dataArr,classLabels,D)#build Stump\n",
    "#         print(\"D:\",D.T)\n",
    "        alpha = float(0.5*np.log((1.0-error)/max(error,1e-16)))#calc alpha, throw in max(error,eps) to account for error=0\n",
    "        bestStump['alpha'] = alpha  \n",
    "        weakClassArr.append(bestStump)                  #store Stump Params in Array\n",
    "#         print(\"classEst: \",classEst.T)\n",
    "        expon = np.multiply(-1*alpha*np.mat(classLabels).T,classEst) #exponent for D calc, getting messy\n",
    "        D = np.multiply(D,np.exp(expon))                              #Calc New D for next iteration\n",
    "        D = D/D.sum()\n",
    "        #calc training error of all classifiers, if this is 0 quit for loop early (use break)\n",
    "        aggClassEst += alpha*classEst\n",
    "#         print(\"aggClassEst: \",aggClassEst.T)\n",
    "        aggErrors = np.multiply(np.sign(aggClassEst) != np.mat(classLabels).T, np.ones((m,1)))\n",
    "        errorRate = aggErrors.sum()/m\n",
    "#         print(\"total error: \",errorRate)\n",
    "        if errorRate == 0.0: break\n",
    "    return weakClassArr, aggClassEst\n",
    "\n",
    "datArr, labelArr = loadDataSet('horseColicTraining2.txt')\n",
    "classifierArray, aggClassEst = adaBoostTrainDS(datArr, labelArr, 10)\n",
    "plotROC(aggClassEst.T, labelArr)"
   ]
  },
  {
   "cell_type": "code",
   "execution_count": 4,
   "metadata": {},
   "outputs": [
    {
     "data": {
      "image/png": "[encoded data removed]",
      "text/plain": [
       "<Figure size 432x288 with 1 Axes>"
      ]
     },
     "metadata": {
      "needs_background": "light"
     },
     "output_type": "display_data"
    },
    {
     "name": "stdout",
     "output_type": "stream",
     "text": [
      "the AUC is : 0.8953941870182941\n"
     ]
    }
   ],
   "source": [
    "classifierArray, aggClassEst = adaBoostTrainDS(datArr, labelArr, 50)\n",
    "plotROC(aggClassEst.T, labelArr)"
   ]
  },
  {
   "cell_type": "markdown",
   "metadata": {},
   "source": [
    "## 基于代价函数的分类器决策控制\n",
    "* **代价敏感学习（cost-sensitive learning）**\n",
    "\n",
    " **在分类算法中，我们有很多方法引入代价信息**\n",
    "\n",
    "    1. 在AdaBoost中，可以基于代价函数来调整错误权重向量D\n",
    "    \n",
    "    2. 在朴素贝叶斯中，可以选择最小期望代价而不是最大概率的类别作为最后的结果\n",
    "    \n",
    "    3. 在SVM中，可以在代价函数中对于不同类别选择不同的参数c"
   ]
  },
  {
   "cell_type": "markdown",
   "metadata": {},
   "source": [
    "## 处理非均衡问题的抽样方法\n",
    "* **欠抽样（undersampling）：删除样例**\n",
    "* **过抽样（oversampling ）：复制样例**\n",
    "\n",
    "对于非均衡问题，我们希望罕见类别能尽可能保留更多信息，因此我们应该保留正例类别的所有样例，对反例类别进行欠抽样或者删除处理。\n",
    "\n",
    "缺点：不确定哪些样例需要删除，且删除样例中可能携带剩余样例中不包含的信息。\n",
    "\n",
    "解决方法：对距离边界较远的样例进行删除，或者用反例类别的欠正例类别的过抽样相混合的方法，对正例类别复制或者加入插值点，但可能会导致过拟合。"
   ]
  },
  {
   "cell_type": "code",
   "execution_count": null,
   "metadata": {},
   "outputs": [],
   "source": []
  }
 ],
 "metadata": {
  "kernelspec": {
   "display_name": "Python 3",
   "language": "python",
   "name": "python3"
  },
  "language_info": {
   "codemirror_mode": {
    "name": "ipython",
    "version": 3
   },
   "file_extension": ".py",
   "mimetype": "text/x-python",
   "name": "python",
   "nbconvert_exporter": "python",
   "pygments_lexer": "ipython3",
   "version": "3.7.6"
  }
 },
 "nbformat": 4,
 "nbformat_minor": 4
}
