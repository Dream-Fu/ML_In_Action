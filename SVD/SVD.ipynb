{
 "cells": [
  {
   "cell_type": "markdown",
   "metadata": {},
   "source": [
    "# SVD简介\n",
    "* **SVD（*Singular Value Decomposition*）奇异值分解**\n",
    "\n",
    "SVD是一种强大的降维工具，利用SVD来逼近矩阵并从中提取重要特征。通过保留80%-90%能量，就可以得到重要的特征并去除噪声。\n",
    "\n",
    "我们称利用SVD的方法为`隐性语义索引`（*Latent Semantic Indexing*）或者`隐性语义分析`（*Latent Semantic Analysis*）\n",
    "\n",
    "在LSI中，一个矩阵由文档和词语组成，在矩阵上应用SVD时，产生的奇异值代表了文档的概念或主题。\n",
    "\n",
    "## SVD应用：推荐系统\n",
    "一般的方法为：我们先利SVD从数据中构建一个主题空间，然后再在该空间下计算其相似度。\n",
    "\n",
    "**SVD的分解过程**\n",
    "$$\\begin{aligned}\n",
    "Data_{m*n} = U_{m*m}\\Sigma_{m*n}V_{n*n}^T\n",
    "\\end{aligned}$$\n",
    "\n",
    "其中，矩阵$\\Sigma$是奇异值矩阵，奇异值是矩阵$Data * Data^T$特征值的平方根。\n",
    "\n",
    "## 基于协同过滤的推荐引擎\n",
    "**协调过滤（*collaborative filtering*）是通过将用户和其他用户的数据进行对比来实现推荐的算法。当知道两个用户之间或两个物品之间的相似度，我们就可以利用已有的数据来预测未知的用户喜好。**\n",
    "\n",
    "## 构建推荐系统面临的挑战\n",
    "* SVD在更大规模的数据上，会降低程序的速度。在大型系统中，SVD分解会降低程序的运行速度，而且要离线运行。\n",
    "* 冷启动问题（cold-start）：在协同过滤场景下，新物品的到来却反所有用户对其的喜好信息，因此无法给出推荐。解决的方法有基于内容的推荐（content-based），通过各种标签标记物品的属性，将推荐问题看成搜索问题。"
   ]
  },
  {
   "cell_type": "markdown",
   "metadata": {},
   "source": [
    "奇异值的计算"
   ]
  },
  {
   "cell_type": "code",
   "execution_count": 1,
   "metadata": {},
   "outputs": [],
   "source": [
    "from numpy import *\n",
    "from numpy import linalg as la\n",
    "U, Sigma, VT = la.svd([[1, 1], [7, 7]])"
   ]
  },
  {
   "cell_type": "code",
   "execution_count": 2,
   "metadata": {},
   "outputs": [
    {
     "data": {
      "text/plain": [
       "array([[-0.14142136, -0.98994949],\n",
       "       [-0.98994949,  0.14142136]])"
      ]
     },
     "execution_count": 2,
     "metadata": {},
     "output_type": "execute_result"
    }
   ],
   "source": [
    "U"
   ]
  },
  {
   "cell_type": "markdown",
   "metadata": {},
   "source": [
    "Sigma是一个矩阵，此处仅返回对角元素"
   ]
  },
  {
   "cell_type": "code",
   "execution_count": 3,
   "metadata": {},
   "outputs": [
    {
     "data": {
      "text/plain": [
       "array([1.00000000e+01, 2.82797782e-16])"
      ]
     },
     "execution_count": 3,
     "metadata": {},
     "output_type": "execute_result"
    }
   ],
   "source": [
    "Sigma"
   ]
  },
  {
   "cell_type": "code",
   "execution_count": 4,
   "metadata": {},
   "outputs": [
    {
     "data": {
      "text/plain": [
       "array([[-0.70710678, -0.70710678],\n",
       "       [ 0.70710678, -0.70710678]])"
      ]
     },
     "execution_count": 4,
     "metadata": {},
     "output_type": "execute_result"
    }
   ],
   "source": [
    "VT"
   ]
  },
  {
   "cell_type": "markdown",
   "metadata": {},
   "source": [
    "### 相似度计算\n",
    "* 欧式距离\n",
    "* 皮尔逊相关系数\n",
    "* 余弦相似度"
   ]
  },
  {
   "cell_type": "code",
   "execution_count": 5,
   "metadata": {},
   "outputs": [],
   "source": [
    "def euclid_sim(in_a, in_b):\n",
    "    return 1.0 / (1.0 + la.norm(in_a - in_b))\n",
    "\n",
    "\n",
    "def pearson_sim(in_a, in_b):\n",
    "    if (len(in_a) < 3):\n",
    "        return 1.0\n",
    "    return (corrcoef(in_a, in_b, rowvar=0)[0][1] + 1.0) / 2.0\n",
    "\n",
    "\n",
    "def cos_sim(in_a, in_b):\n",
    "    num = float(in_a.T * in_b)\n",
    "    denom = la.norm(in_a) * la.norm(in_b)\n",
    "    return ((num / denom) + 1.0) / 2.0"
   ]
  },
  {
   "cell_type": "code",
   "execution_count": 6,
   "metadata": {},
   "outputs": [],
   "source": [
    "def loadExData():\n",
    "    return[[0, 0, 0, 2, 2],\n",
    "           [0, 0, 0, 3, 3],\n",
    "           [0, 0, 0, 1, 1],\n",
    "           [1, 1, 1, 0, 0],\n",
    "           [2, 2, 2, 0, 0],\n",
    "           [5, 5, 5, 0, 0],\n",
    "           [1, 1, 1, 0, 0]]"
   ]
  },
  {
   "cell_type": "code",
   "execution_count": 7,
   "metadata": {},
   "outputs": [],
   "source": [
    "mymat = mat(loadExData())"
   ]
  },
  {
   "cell_type": "markdown",
   "metadata": {},
   "source": [
    "欧式距离"
   ]
  },
  {
   "cell_type": "code",
   "execution_count": 8,
   "metadata": {},
   "outputs": [
    {
     "data": {
      "text/plain": [
       "0.12973190755680383"
      ]
     },
     "execution_count": 8,
     "metadata": {},
     "output_type": "execute_result"
    }
   ],
   "source": [
    "euclid_sim(mymat[:, 0], mymat[:, 4])"
   ]
  },
  {
   "cell_type": "code",
   "execution_count": 9,
   "metadata": {},
   "outputs": [
    {
     "data": {
      "text/plain": [
       "1.0"
      ]
     },
     "execution_count": 9,
     "metadata": {},
     "output_type": "execute_result"
    }
   ],
   "source": [
    "euclid_sim(mymat[:, 0], mymat[:, 0])"
   ]
  },
  {
   "cell_type": "markdown",
   "metadata": {},
   "source": [
    "余弦相似度"
   ]
  },
  {
   "cell_type": "code",
   "execution_count": 10,
   "metadata": {},
   "outputs": [
    {
     "data": {
      "text/plain": [
       "0.5"
      ]
     },
     "execution_count": 10,
     "metadata": {},
     "output_type": "execute_result"
    }
   ],
   "source": [
    "cos_sim(mymat[:, 0], mymat[:, 4])"
   ]
  },
  {
   "cell_type": "code",
   "execution_count": 11,
   "metadata": {},
   "outputs": [
    {
     "data": {
      "text/plain": [
       "1.0"
      ]
     },
     "execution_count": 11,
     "metadata": {},
     "output_type": "execute_result"
    }
   ],
   "source": [
    "cos_sim(mymat[:, 0], mymat[:, 0])"
   ]
  },
  {
   "cell_type": "markdown",
   "metadata": {},
   "source": [
    "皮尔逊相关系数"
   ]
  },
  {
   "cell_type": "code",
   "execution_count": 12,
   "metadata": {},
   "outputs": [
    {
     "data": {
      "text/plain": [
       "0.20596538173840329"
      ]
     },
     "execution_count": 12,
     "metadata": {},
     "output_type": "execute_result"
    }
   ],
   "source": [
    "pearson_sim(mymat[:, 0], mymat[:, 4])"
   ]
  },
  {
   "cell_type": "code",
   "execution_count": 13,
   "metadata": {},
   "outputs": [
    {
     "data": {
      "text/plain": [
       "1.0"
      ]
     },
     "execution_count": 13,
     "metadata": {},
     "output_type": "execute_result"
    }
   ],
   "source": [
    "pearson_sim(mymat[:, 0], mymat[:, 0])"
   ]
  },
  {
   "cell_type": "markdown",
   "metadata": {},
   "source": [
    "## 示例：推荐引擎\n",
    "推荐系统的工作过程是:\n",
    "\n",
    "    寻找用户没有评级的物品，即用户-物品矩阵中的0值\n",
    "    遍历没有评级的物品，预测一个评级分数\n",
    "    对这些物品评级进行排序，返回前N个物品\n",
    "    \n",
    "预测评分的伪代码为：\n",
    "\n",
    "    遍历该用户未评过分的物品\n",
    "       寻找两个用户都评过分的物品进行比较，算出相似度"
   ]
  },
  {
   "cell_type": "code",
   "execution_count": 14,
   "metadata": {},
   "outputs": [],
   "source": [
    "def stand_est(datamat, user, sim_mean, item):\n",
    "    n = shape(datamat)[1]\n",
    "    sim_total = 0.0\n",
    "    rat_sim_total = 0.0\n",
    "    print('item:',item)\n",
    "    for j in range(n):\n",
    "        user_rating = datamat[user, j]\n",
    "        if user_rating == 0:\n",
    "            continue\n",
    "        overlap = nonzero(logical_and(datamat[:, item].A > 0, datamat[:, j].A > 0))[0]\n",
    "        print('j:',j)\n",
    "        if len(overlap) == 0:\n",
    "            similarity = 0\n",
    "        else:\n",
    "            print('datamat[overlap, item]\\n',datamat[overlap, item])\n",
    "            print('datamat[overlap, j]\\n',datamat[overlap, j])\n",
    "            similarity = sim_mean(datamat[overlap, item], datamat[overlap, j])\n",
    "            sim_total += similarity\n",
    "            rat_sim_total += similarity * user_rating\n",
    "    if sim_total == 0:\n",
    "        return 0\n",
    "    return rat_sim_total / sim_total"
   ]
  },
  {
   "cell_type": "code",
   "execution_count": 15,
   "metadata": {},
   "outputs": [],
   "source": [
    "def recommend(datamat, user, N=3, sim_mean=cos_sim, est_method=stand_est):\n",
    "    unrated_items = nonzero(datamat[user, :].A == 0)[1]\n",
    "    if len(unrated_items) == 0:\n",
    "        return 'you rated everything'\n",
    "    item_score = []\n",
    "    for item in unrated_items:\n",
    "        est_score = est_method(datamat, user, sim_mean, item)\n",
    "        item_score.append([item, est_score])\n",
    "    return sorted(item_score, key=lambda p:p[1], reverse=True)[:N]"
   ]
  },
  {
   "cell_type": "code",
   "execution_count": 16,
   "metadata": {},
   "outputs": [
    {
     "data": {
      "text/plain": [
       "matrix([[4, 4, 0, 2, 2],\n",
       "        [4, 0, 0, 3, 3],\n",
       "        [4, 0, 0, 1, 1],\n",
       "        [1, 1, 1, 2, 0],\n",
       "        [2, 2, 2, 0, 0],\n",
       "        [5, 5, 5, 0, 0],\n",
       "        [1, 1, 1, 0, 0]])"
      ]
     },
     "execution_count": 16,
     "metadata": {},
     "output_type": "execute_result"
    }
   ],
   "source": [
    "myMat=mat(loadExData())\n",
    "myMat[0,1]=myMat[0,0]=myMat[1,0]=myMat[2,0]=4\n",
    "myMat[3,3]=2\n",
    "myMat"
   ]
  },
  {
   "cell_type": "code",
   "execution_count": 17,
   "metadata": {},
   "outputs": [
    {
     "name": "stdout",
     "output_type": "stream",
     "text": [
      "item: 1\n",
      "j: 0\n",
      "datamat[overlap, item]\n",
      " [[4]\n",
      " [1]\n",
      " [2]\n",
      " [5]\n",
      " [1]]\n",
      "datamat[overlap, j]\n",
      " [[4]\n",
      " [1]\n",
      " [2]\n",
      " [5]\n",
      " [1]]\n",
      "j: 3\n",
      "datamat[overlap, item]\n",
      " [[4]\n",
      " [1]]\n",
      "datamat[overlap, j]\n",
      " [[2]\n",
      " [2]]\n",
      "j: 4\n",
      "datamat[overlap, item]\n",
      " [[4]]\n",
      "datamat[overlap, j]\n",
      " [[2]]\n",
      "item: 2\n",
      "j: 0\n",
      "datamat[overlap, item]\n",
      " [[1]\n",
      " [2]\n",
      " [5]\n",
      " [1]]\n",
      "datamat[overlap, j]\n",
      " [[1]\n",
      " [2]\n",
      " [5]\n",
      " [1]]\n",
      "j: 3\n",
      "datamat[overlap, item]\n",
      " [[1]]\n",
      "datamat[overlap, j]\n",
      " [[2]]\n",
      "j: 4\n"
     ]
    },
    {
     "data": {
      "text/plain": [
       "[[2, 2.5], [1, 2.0243290220056256]]"
      ]
     },
     "execution_count": 17,
     "metadata": {},
     "output_type": "execute_result"
    }
   ],
   "source": [
    "recommend(myMat, 2)"
   ]
  },
  {
   "cell_type": "code",
   "execution_count": 18,
   "metadata": {},
   "outputs": [
    {
     "name": "stdout",
     "output_type": "stream",
     "text": [
      "item: 1\n",
      "j: 0\n",
      "datamat[overlap, item]\n",
      " [[4]\n",
      " [1]\n",
      " [2]\n",
      " [5]\n",
      " [1]]\n",
      "datamat[overlap, j]\n",
      " [[4]\n",
      " [1]\n",
      " [2]\n",
      " [5]\n",
      " [1]]\n",
      "j: 3\n",
      "datamat[overlap, item]\n",
      " [[4]\n",
      " [1]]\n",
      "datamat[overlap, j]\n",
      " [[2]\n",
      " [2]]\n",
      "j: 4\n",
      "datamat[overlap, item]\n",
      " [[4]]\n",
      "datamat[overlap, j]\n",
      " [[2]]\n",
      "item: 2\n",
      "j: 0\n",
      "datamat[overlap, item]\n",
      " [[1]\n",
      " [2]\n",
      " [5]\n",
      " [1]]\n",
      "datamat[overlap, j]\n",
      " [[1]\n",
      " [2]\n",
      " [5]\n",
      " [1]]\n",
      "j: 3\n",
      "datamat[overlap, item]\n",
      " [[1]]\n",
      "datamat[overlap, j]\n",
      " [[2]]\n",
      "j: 4\n"
     ]
    },
    {
     "data": {
      "text/plain": [
       "[[2, 3.0], [1, 2.8266504712098603]]"
      ]
     },
     "execution_count": 18,
     "metadata": {},
     "output_type": "execute_result"
    }
   ],
   "source": [
    "recommend(myMat, 2, sim_mean=euclid_sim)"
   ]
  },
  {
   "cell_type": "code",
   "execution_count": 19,
   "metadata": {},
   "outputs": [
    {
     "name": "stdout",
     "output_type": "stream",
     "text": [
      "item: 1\n",
      "j: 0\n",
      "datamat[overlap, item]\n",
      " [[4]\n",
      " [1]\n",
      " [2]\n",
      " [5]\n",
      " [1]]\n",
      "datamat[overlap, j]\n",
      " [[4]\n",
      " [1]\n",
      " [2]\n",
      " [5]\n",
      " [1]]\n",
      "j: 3\n",
      "datamat[overlap, item]\n",
      " [[4]\n",
      " [1]]\n",
      "datamat[overlap, j]\n",
      " [[2]\n",
      " [2]]\n",
      "j: 4\n",
      "datamat[overlap, item]\n",
      " [[4]]\n",
      "datamat[overlap, j]\n",
      " [[2]]\n",
      "item: 2\n",
      "j: 0\n",
      "datamat[overlap, item]\n",
      " [[1]\n",
      " [2]\n",
      " [5]\n",
      " [1]]\n",
      "datamat[overlap, j]\n",
      " [[1]\n",
      " [2]\n",
      " [5]\n",
      " [1]]\n",
      "j: 3\n",
      "datamat[overlap, item]\n",
      " [[1]]\n",
      "datamat[overlap, j]\n",
      " [[2]]\n",
      "j: 4\n"
     ]
    },
    {
     "data": {
      "text/plain": [
       "[[2, 2.5], [1, 2.0]]"
      ]
     },
     "execution_count": 19,
     "metadata": {},
     "output_type": "execute_result"
    }
   ],
   "source": [
    "recommend(myMat, 2, sim_mean=pearson_sim)"
   ]
  },
  {
   "cell_type": "markdown",
   "metadata": {},
   "source": [
    "### 基于SVD的评分估计"
   ]
  },
  {
   "cell_type": "code",
   "execution_count": 20,
   "metadata": {},
   "outputs": [],
   "source": [
    "def loadExData2():\n",
    "    return[[0, 0, 0, 0, 0, 4, 0, 0, 0, 0, 5],\n",
    "           [0, 0, 0, 3, 0, 4, 0, 0, 0, 0, 3],\n",
    "           [0, 0, 0, 0, 4, 0, 0, 1, 0, 4, 0],\n",
    "           [3, 3, 4, 0, 0, 0, 0, 2, 2, 0, 0],\n",
    "           [5, 4, 5, 0, 0, 0, 0, 5, 5, 0, 0],\n",
    "           [0, 0, 0, 0, 5, 0, 1, 0, 0, 5, 0],\n",
    "           [4, 3, 4, 0, 0, 0, 0, 5, 5, 0, 1],\n",
    "           [0, 0, 0, 4, 0, 4, 0, 0, 0, 0, 4],\n",
    "           [0, 0, 0, 2, 0, 2, 5, 0, 0, 1, 2],\n",
    "           [0, 0, 0, 0, 5, 0, 0, 0, 0, 4, 0],\n",
    "           [1, 0, 0, 0, 0, 0, 0, 1, 2, 0, 0]]"
   ]
  },
  {
   "cell_type": "code",
   "execution_count": 21,
   "metadata": {},
   "outputs": [
    {
     "data": {
      "text/plain": [
       "array([15.77075346, 11.40670395, 11.03044558,  4.84639758,  3.09292055,\n",
       "        2.58097379,  1.00413543,  0.72817072,  0.43800353,  0.22082113,\n",
       "        0.07367823])"
      ]
     },
     "execution_count": 21,
     "metadata": {},
     "output_type": "execute_result"
    }
   ],
   "source": [
    "U, Sigma, VT = linalg.svd(mat(loadExData2()))\n",
    "Sigma"
   ]
  },
  {
   "cell_type": "code",
   "execution_count": 22,
   "metadata": {},
   "outputs": [
    {
     "data": {
      "text/plain": [
       "541.9999999999995"
      ]
     },
     "execution_count": 22,
     "metadata": {},
     "output_type": "execute_result"
    }
   ],
   "source": [
    "Sig2 = Sigma ** 2\n",
    "sum(Sig2)"
   ]
  },
  {
   "cell_type": "code",
   "execution_count": 23,
   "metadata": {},
   "outputs": [
    {
     "data": {
      "text/plain": [
       "487.7999999999996"
      ]
     },
     "execution_count": 23,
     "metadata": {},
     "output_type": "execute_result"
    }
   ],
   "source": [
    "sum(Sig2) * 0.9"
   ]
  },
  {
   "cell_type": "code",
   "execution_count": 24,
   "metadata": {},
   "outputs": [
    {
     "data": {
      "text/plain": [
       "378.8295595113579"
      ]
     },
     "execution_count": 24,
     "metadata": {},
     "output_type": "execute_result"
    }
   ],
   "source": [
    "sum(Sig2[:2]) "
   ]
  },
  {
   "cell_type": "code",
   "execution_count": 25,
   "metadata": {},
   "outputs": [
    {
     "data": {
      "text/plain": [
       "500.5002891275793"
      ]
     },
     "execution_count": 25,
     "metadata": {},
     "output_type": "execute_result"
    }
   ],
   "source": [
    "sum(Sig2[:3])"
   ]
  },
  {
   "cell_type": "code",
   "execution_count": 26,
   "metadata": {},
   "outputs": [],
   "source": [
    "def svd_est(datamat, user, sim_meas, item):\n",
    "    n = shape(datamat)[1]\n",
    "    sim_total = 0.0\n",
    "    rat_sim_total = 0.0\n",
    "    U, Sigma, VT = la.svd(datamat)\n",
    "    Sig4 = mat(eye(4) * Sigma[:4])\n",
    "    x_formed_items = datamat.T * U[:, :4] * Sig4.I\n",
    "    for j in range(n):\n",
    "        user_rating = datamat[user, j]\n",
    "        if user_rating == 0 or j == item:\n",
    "            continue\n",
    "        similarity = sim_meas(x_formed_items[item, :].T, x_formed_items[j, :].T)\n",
    "        print('the %d and %d similarity is: %f ' %(item, j, similarity))\n",
    "        sim_total += similarity\n",
    "        rat_sim_total += similarity * user_rating\n",
    "    if sim_total == 0:\n",
    "        return 0\n",
    "    else:\n",
    "        return rat_sim_total / sim_total"
   ]
  },
  {
   "cell_type": "code",
   "execution_count": 27,
   "metadata": {},
   "outputs": [
    {
     "name": "stdout",
     "output_type": "stream",
     "text": [
      "the 0 and 3 similarity is: 0.490950 \n",
      "the 0 and 5 similarity is: 0.484274 \n",
      "the 0 and 10 similarity is: 0.512755 \n",
      "the 1 and 3 similarity is: 0.491294 \n",
      "the 1 and 5 similarity is: 0.481516 \n",
      "the 1 and 10 similarity is: 0.509709 \n",
      "the 2 and 3 similarity is: 0.491573 \n",
      "the 2 and 5 similarity is: 0.482346 \n",
      "the 2 and 10 similarity is: 0.510584 \n",
      "the 4 and 3 similarity is: 0.450495 \n",
      "the 4 and 5 similarity is: 0.506795 \n",
      "the 4 and 10 similarity is: 0.512896 \n",
      "the 6 and 3 similarity is: 0.743699 \n",
      "the 6 and 5 similarity is: 0.468366 \n",
      "the 6 and 10 similarity is: 0.439465 \n",
      "the 7 and 3 similarity is: 0.482175 \n",
      "the 7 and 5 similarity is: 0.494716 \n",
      "the 7 and 10 similarity is: 0.524970 \n",
      "the 8 and 3 similarity is: 0.491307 \n",
      "the 8 and 5 similarity is: 0.491228 \n",
      "the 8 and 10 similarity is: 0.520290 \n",
      "the 9 and 3 similarity is: 0.522379 \n",
      "the 9 and 5 similarity is: 0.496130 \n",
      "the 9 and 10 similarity is: 0.493617 \n"
     ]
    },
    {
     "data": {
      "text/plain": [
       "[[4, 3.344714938469228], [7, 3.3294020724526967], [9, 3.3281008763900686]]"
      ]
     },
     "execution_count": 27,
     "metadata": {},
     "output_type": "execute_result"
    }
   ],
   "source": [
    "recommend(mat(loadExData2()), 1, est_method=svd_est)"
   ]
  },
  {
   "cell_type": "markdown",
   "metadata": {},
   "source": [
    "## 示例：基于SVD的图像压缩"
   ]
  },
  {
   "cell_type": "code",
   "execution_count": 28,
   "metadata": {},
   "outputs": [],
   "source": [
    "def print_mat(inmat, thresh=0.8):\n",
    "    for i in range(32):\n",
    "        for k in range(32):\n",
    "            if float(inmat[i, k]) > thresh:\n",
    "                print(1, end='')\n",
    "            else:\n",
    "                print(0, end='')\n",
    "        print('')"
   ]
  },
  {
   "cell_type": "code",
   "execution_count": 29,
   "metadata": {},
   "outputs": [],
   "source": [
    "def img_compress(num_sv=3, thresh=0.8):\n",
    "    my1 = []\n",
    "    for line in open('0_5.txt').readlines():\n",
    "        new_row = []\n",
    "        for i in range(32):\n",
    "            new_row.append(int(line[i]))\n",
    "        my1.append(new_row)\n",
    "    myMat = mat(my1)\n",
    "    print('****original matrix****')\n",
    "    print_mat(myMat, thresh)\n",
    "    U, Sigma, VT = la.svd(myMat)\n",
    "    Sig_recon = mat(zeros((num_sv, num_sv)))\n",
    "    for k in range(num_sv):\n",
    "        Sig_recon[k, k] = Sigma[k]\n",
    "    recon_mat = U[:, :num_sv] * Sig_recon * VT[:num_sv, :]\n",
    "    print('****reconstructed matrix using %d singular values****' %num_sv)\n",
    "    print_mat(recon_mat,thresh)"
   ]
  },
  {
   "cell_type": "code",
   "execution_count": 30,
   "metadata": {},
   "outputs": [
    {
     "name": "stdout",
     "output_type": "stream",
     "text": [
      "****original matrix****\n",
      "00000000000000110000000000000000\n",
      "00000000000011111100000000000000\n",
      "00000000000111111110000000000000\n",
      "00000000001111111111000000000000\n",
      "00000000111111111111100000000000\n",
      "00000001111111111111110000000000\n",
      "00000000111111111111111000000000\n",
      "00000000111111100001111100000000\n",
      "00000001111111000001111100000000\n",
      "00000011111100000000111100000000\n",
      "00000011111100000000111110000000\n",
      "00000011111100000000011110000000\n",
      "00000011111100000000011110000000\n",
      "00000001111110000000001111000000\n",
      "00000011111110000000001111000000\n",
      "00000011111100000000001111000000\n",
      "00000001111100000000001111000000\n",
      "00000011111100000000001111000000\n",
      "00000001111100000000001111000000\n",
      "00000001111100000000011111000000\n",
      "00000000111110000000001111100000\n",
      "00000000111110000000001111100000\n",
      "00000000111110000000001111100000\n",
      "00000000111110000000011111000000\n",
      "00000000111110000000111111000000\n",
      "00000000111111000001111110000000\n",
      "00000000011111111111111110000000\n",
      "00000000001111111111111110000000\n",
      "00000000001111111111111110000000\n",
      "00000000000111111111111000000000\n",
      "00000000000011111111110000000000\n",
      "00000000000000111111000000000000\n",
      "****reconstructed matrix using 2 singular values****\n",
      "00000000000000000000000000000000\n",
      "00000000000000000000000000000000\n",
      "00000000000001111100000000000000\n",
      "00000000000011111111000000000000\n",
      "00000000000111111111100000000000\n",
      "00000000001111111111110000000000\n",
      "00000000001111111111110000000000\n",
      "00000000011110000000001000000000\n",
      "00000000111100000000001100000000\n",
      "00000000111100000000001110000000\n",
      "00000000111100000000001110000000\n",
      "00000000111100000000001110000000\n",
      "00000000111100000000001110000000\n",
      "00000000111100000000001110000000\n",
      "00000000111100000000001110000000\n",
      "00000000111100000000001110000000\n",
      "00000000111100000000001110000000\n",
      "00000000111100000000001110000000\n",
      "00000000111100000000001110000000\n",
      "00000000111100000000001110000000\n",
      "00000000111100000000001110000000\n",
      "00000000111100000000001110000000\n",
      "00000000111100000000001110000000\n",
      "00000000111100000000001110000000\n",
      "00000000111100000000001110000000\n",
      "00000000111100000000001100000000\n",
      "00000000001111111111111000000000\n",
      "00000000001111111111110000000000\n",
      "00000000001111111111110000000000\n",
      "00000000000011111111100000000000\n",
      "00000000000011111111000000000000\n",
      "00000000000000000000000000000000\n"
     ]
    }
   ],
   "source": [
    "img_compress(2)"
   ]
  },
  {
   "cell_type": "code",
   "execution_count": null,
   "metadata": {},
   "outputs": [],
   "source": []
  }
 ],
 "metadata": {
  "kernelspec": {
   "display_name": "Python 3",
   "language": "python",
   "name": "python3"
  },
  "language_info": {
   "codemirror_mode": {
    "name": "ipython",
    "version": 3
   },
   "file_extension": ".py",
   "mimetype": "text/x-python",
   "name": "python",
   "nbconvert_exporter": "python",
   "pygments_lexer": "ipython3",
   "version": "3.7.6"
  }
 },
 "nbformat": 4,
 "nbformat_minor": 4
}
