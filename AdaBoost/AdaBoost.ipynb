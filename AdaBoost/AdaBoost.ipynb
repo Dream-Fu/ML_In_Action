{
 "cells": [
  {
   "cell_type": "markdown",
   "metadata": {},
   "source": [
    "# 利用AdaBoost元算法提高分类性能"
   ]
  },
  {
   "cell_type": "markdown",
   "metadata": {},
   "source": [
    "## AdaBoost（adaptive boosting）是自适应boosting的缩写。 \n",
    "**其运行过程为：**\n",
    "\n",
    "**训练数据中的每个样本，并赋予其一个权重，这些权重构成了向量D。**\n",
    "\n",
    "**首先在训练数据上训练出一个弱分类器并计算该分类器的错误率，然后再在同一数据集上再次训练弱分类器。**\n",
    "\n",
    "**在第二次训练分类器时，重新调整样本权重，预测错误的样本权重将会增加。**\n",
    "\n",
    "**同时，每个分类器都分配了一个alpha权重值，以此来得到所有分类器的最终分类结果。**\n",
    "\n",
    "其中，错误率 \n",
    "$$\\begin{aligned}\n",
    "\\epsilon = \\frac{错误分类结果数}{所有样本数}\n",
    "\\end{aligned}$$\n",
    "而 \n",
    "$$\\begin{aligned}\n",
    "\\alpha = \\frac {1}{2} ln(\\frac {1 - \\epsilon}{\\epsilon})\n",
    "\\end{aligned}$$\n",
    "\n",
    "计算出alpha值之后，我们对D进行更新，其计算如下。\n",
    "\n",
    "如果分类正确：\n",
    "$$\\begin{aligned}\n",
    "D_i^{(t+1)} = \\frac {D_i^{(t)}e^{-\\alpha}}{Sum(D)}\n",
    "\\end{aligned}$$\n",
    "如果分类错误：\n",
    "$$\\begin{aligned}\n",
    "D_i^{(t+1)} = \\frac {D_i^{(t)}e^{\\alpha}}{Sum(D)}\n",
    "\\end{aligned}$$"
   ]
  },
  {
   "cell_type": "markdown",
   "metadata": {},
   "source": [
    "## 基于单层决策树构建弱分类器"
   ]
  }
 ],
 "metadata": {
  "kernelspec": {
   "display_name": "Python 3",
   "language": "python",
   "name": "python3"
  },
  "language_info": {
   "codemirror_mode": {
    "name": "ipython",
    "version": 3
   },
   "file_extension": ".py",
   "mimetype": "text/x-python",
   "name": "python",
   "nbconvert_exporter": "python",
   "pygments_lexer": "ipython3",
   "version": "3.7.6"
  }
 },
 "nbformat": 4,
 "nbformat_minor": 4
}
