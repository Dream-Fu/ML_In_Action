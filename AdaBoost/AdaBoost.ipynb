{
 "cells": [
  {
   "cell_type": "markdown",
   "metadata": {},
   "source": [
    "# 利用AdaBoost元算法提高分类性能"
   ]
  },
  {
   "cell_type": "markdown",
   "metadata": {},
   "source": [
    "## AdaBoost（adaptive boosting）是自适应boosting的缩写。 \n",
    "**其运行过程为：**\n",
    "\n",
    "**训练数据中的每个样本，并赋予其一个权重，这些权重构成了向量D。**\n",
    "\n",
    "**首先在训练数据上训练出一个弱分类器并计算该分类器的错误率，然后再在同一数据集上再次训练弱分类器。**\n",
    "\n",
    "**在第二次训练分类器时，重新调整样本权重，预测错误的样本权重将会增加。**\n",
    "\n",
    "**同时，每个分类器都分配了一个alpha权重值，以此来得到所有分类器的最终分类结果。**\n",
    "\n",
    "其中，错误率 \n",
    "$$\\begin{aligned}\n",
    "\\epsilon = \\frac{错误分类结果数}{所有样本数}\n",
    "\\end{aligned}$$\n",
    "而 \n",
    "$$\\begin{aligned}\n",
    "\\alpha = \\frac {1}{2} ln(\\frac {1 - \\epsilon}{\\epsilon})\n",
    "\\end{aligned}$$\n",
    "\n",
    "计算出alpha值之后，我们对D进行更新，其计算如下。\n",
    "\n",
    "如果分类正确：\n",
    "$$\\begin{aligned}\n",
    "D_i^{(t+1)} = \\frac {D_i^{(t)}e^{-\\alpha}}{Sum(D)}\n",
    "\\end{aligned}$$\n",
    "如果分类错误：\n",
    "$$\\begin{aligned}\n",
    "D_i^{(t+1)} = \\frac {D_i^{(t)}e^{\\alpha}}{Sum(D)}\n",
    "\\end{aligned}$$"
   ]
  },
  {
   "cell_type": "markdown",
   "metadata": {},
   "source": [
    "## 基于单层决策树构建弱分类器\n",
    "单层决策树（decision stump）又称决策树桩，由于它仅基于单个特征来做决策，只有一次分裂过程，因此它只有一个树桩。"
   ]
  },
  {
   "cell_type": "markdown",
   "metadata": {},
   "source": [
    "* 导入数据"
   ]
  },
  {
   "cell_type": "code",
   "execution_count": 1,
   "metadata": {},
   "outputs": [],
   "source": [
    "from numpy import *\n",
    "\n",
    "def load_simpdata():\n",
    "    datmat = matrix([[ 1. ,  2.1],\n",
    "        [ 2. ,  1.1],\n",
    "        [ 1.3,  1. ],\n",
    "        [ 1. ,  1. ],\n",
    "        [ 2. ,  1. ]])\n",
    "    class_labels = [1.0, 1.0, -1.0, -1.0, 1.0]\n",
    "    return datmat,class_labels"
   ]
  },
  {
   "cell_type": "code",
   "execution_count": 2,
   "metadata": {},
   "outputs": [],
   "source": [
    "datmat, labels = load_simpdata()"
   ]
  },
  {
   "cell_type": "code",
   "execution_count": 3,
   "metadata": {},
   "outputs": [
    {
     "data": {
      "image/png": "[encoded data removed]",
      "text/plain": [
       "<Figure size 432x288 with 1 Axes>"
      ]
     },
     "metadata": {
      "needs_background": "light"
     },
     "output_type": "display_data"
    }
   ],
   "source": [
    "import matplotlib.pyplot as plt\n",
    "\n",
    "xcord0 = []\n",
    "ycord0 = []\n",
    "xcord1 = []\n",
    "ycord1 = []\n",
    "markers =[]\n",
    "colors =[]\n",
    "\n",
    "for i in range(len(labels)):\n",
    "    if labels[i]==1.0:\n",
    "        xcord1.append(datmat[i,0]), ycord1.append(datmat[i,1])\n",
    "    else:\n",
    "        xcord0.append(datmat[i,0]), ycord0.append(datmat[i,1])\n",
    "fig = plt.figure()\n",
    "ax = fig.add_subplot(111)       \n",
    "ax.scatter(xcord0,ycord0, marker='s', s=90)\n",
    "ax.scatter(xcord1,ycord1, marker='o', s=50, c='red')\n",
    "plt.title('Decision Stump Test Data')\n",
    "plt.show()"
   ]
  },
  {
   "cell_type": "markdown",
   "metadata": {},
   "source": [
    "* 建立单层决策树\n",
    "\n",
    "        将min_err设为无穷大   \n",
    "            对数据集中的每个特征\n",
    "                对每个步长\n",
    "                    对每个不等号\n",
    "                        建立一颗单层决策树并利用加权数据集对它进行测试\n",
    "                        如果错误率低于min_err则将当前决策树设为最佳单层决策树\n",
    "        返回最佳决策树"
   ]
  },
  {
   "cell_type": "code",
   "execution_count": 4,
   "metadata": {},
   "outputs": [],
   "source": [
    "import numpy as np\n",
    "def stump_classfiy(datamat, dimen, thresh_val, thresh_ineq): \n",
    "    ret_array = np.ones((np.shape(datamat)[0], 1))\n",
    "    if thresh_ineq == 'lt':\n",
    "        ret_array[datamat[:, dimen] <= thresh_val] = -1.0\n",
    "    else:\n",
    "        ret_array[datamat[:, dimen] > thresh_val] = -1.0\n",
    "    return ret_array"
   ]
  },
  {
   "cell_type": "code",
   "execution_count": 5,
   "metadata": {},
   "outputs": [],
   "source": [
    "def build_stump(data_arr, class_labels, D):\n",
    "    datamat = np.mat(data_arr)\n",
    "    labelmat = np.mat(class_labels).T\n",
    "    m, n = np.shape(datamat)\n",
    "    num_steps = 10.0\n",
    "    best_stump = {}\n",
    "    best_class_est = np.mat(np.zeros((m, 1)))\n",
    "    min_err = np.inf\n",
    "    for i in range(n):\n",
    "        range_min = min(datamat[:, i])\n",
    "        range_max = max(datamat[:, i])\n",
    "        step_size = (range_max - range_min) / num_steps\n",
    "        for j in range(-1, int(num_steps)+1):\n",
    "            for inequal in ['lt', 'gt']:\n",
    "                thresh_val = (range_min + float(j) * step_size)\n",
    "                predict_val = stump_classfiy(datamat, i, thresh_val, inequal)\n",
    "                err_mat = np.mat(np.ones((m, 1)))\n",
    "                err_mat[predict_val == labelmat] = 0\n",
    "                weight_err = D.T * err_mat\n",
    "                print('split: dim %d, thresh %.2f, thresh ineqal: %s, the weight error: %.3f' %(i, thresh_val, inequal, weight_err))\n",
    "                if weight_err < min_err:\n",
    "                    min_err = weight_err\n",
    "                    best_class_est = predict_val.copy()\n",
    "                    best_stump['dim'] = i\n",
    "                    best_stump['thresh'] = thresh_val\n",
    "                    best_stump['ineq'] = inequal\n",
    "    return best_stump, min_err, best_class_est"
   ]
  },
  {
   "cell_type": "code",
   "execution_count": 6,
   "metadata": {},
   "outputs": [
    {
     "data": {
      "text/plain": [
       "matrix([[0.2],\n",
       "        [0.2],\n",
       "        [0.2],\n",
       "        [0.2],\n",
       "        [0.2]])"
      ]
     },
     "execution_count": 6,
     "metadata": {},
     "output_type": "execute_result"
    }
   ],
   "source": [
    "D = np.mat(np.ones((5, 1)) / 5)\n",
    "D"
   ]
  },
  {
   "cell_type": "code",
   "execution_count": 7,
   "metadata": {},
   "outputs": [
    {
     "name": "stdout",
     "output_type": "stream",
     "text": [
      "split: dim 0, thresh 0.90, thresh ineqal: lt, the weight error: 0.400\n",
      "split: dim 0, thresh 0.90, thresh ineqal: gt, the weight error: 0.600\n",
      "split: dim 0, thresh 1.00, thresh ineqal: lt, the weight error: 0.400\n",
      "split: dim 0, thresh 1.00, thresh ineqal: gt, the weight error: 0.600\n",
      "split: dim 0, thresh 1.10, thresh ineqal: lt, the weight error: 0.400\n",
      "split: dim 0, thresh 1.10, thresh ineqal: gt, the weight error: 0.600\n",
      "split: dim 0, thresh 1.20, thresh ineqal: lt, the weight error: 0.400\n",
      "split: dim 0, thresh 1.20, thresh ineqal: gt, the weight error: 0.600\n",
      "split: dim 0, thresh 1.30, thresh ineqal: lt, the weight error: 0.200\n",
      "split: dim 0, thresh 1.30, thresh ineqal: gt, the weight error: 0.800\n",
      "split: dim 0, thresh 1.40, thresh ineqal: lt, the weight error: 0.200\n",
      "split: dim 0, thresh 1.40, thresh ineqal: gt, the weight error: 0.800\n",
      "split: dim 0, thresh 1.50, thresh ineqal: lt, the weight error: 0.200\n",
      "split: dim 0, thresh 1.50, thresh ineqal: gt, the weight error: 0.800\n",
      "split: dim 0, thresh 1.60, thresh ineqal: lt, the weight error: 0.200\n",
      "split: dim 0, thresh 1.60, thresh ineqal: gt, the weight error: 0.800\n",
      "split: dim 0, thresh 1.70, thresh ineqal: lt, the weight error: 0.200\n",
      "split: dim 0, thresh 1.70, thresh ineqal: gt, the weight error: 0.800\n",
      "split: dim 0, thresh 1.80, thresh ineqal: lt, the weight error: 0.200\n",
      "split: dim 0, thresh 1.80, thresh ineqal: gt, the weight error: 0.800\n",
      "split: dim 0, thresh 1.90, thresh ineqal: lt, the weight error: 0.200\n",
      "split: dim 0, thresh 1.90, thresh ineqal: gt, the weight error: 0.800\n",
      "split: dim 0, thresh 2.00, thresh ineqal: lt, the weight error: 0.600\n",
      "split: dim 0, thresh 2.00, thresh ineqal: gt, the weight error: 0.400\n",
      "split: dim 1, thresh 0.89, thresh ineqal: lt, the weight error: 0.400\n",
      "split: dim 1, thresh 0.89, thresh ineqal: gt, the weight error: 0.600\n",
      "split: dim 1, thresh 1.00, thresh ineqal: lt, the weight error: 0.200\n",
      "split: dim 1, thresh 1.00, thresh ineqal: gt, the weight error: 0.800\n",
      "split: dim 1, thresh 1.11, thresh ineqal: lt, the weight error: 0.400\n",
      "split: dim 1, thresh 1.11, thresh ineqal: gt, the weight error: 0.600\n",
      "split: dim 1, thresh 1.22, thresh ineqal: lt, the weight error: 0.400\n",
      "split: dim 1, thresh 1.22, thresh ineqal: gt, the weight error: 0.600\n",
      "split: dim 1, thresh 1.33, thresh ineqal: lt, the weight error: 0.400\n",
      "split: dim 1, thresh 1.33, thresh ineqal: gt, the weight error: 0.600\n",
      "split: dim 1, thresh 1.44, thresh ineqal: lt, the weight error: 0.400\n",
      "split: dim 1, thresh 1.44, thresh ineqal: gt, the weight error: 0.600\n",
      "split: dim 1, thresh 1.55, thresh ineqal: lt, the weight error: 0.400\n",
      "split: dim 1, thresh 1.55, thresh ineqal: gt, the weight error: 0.600\n",
      "split: dim 1, thresh 1.66, thresh ineqal: lt, the weight error: 0.400\n",
      "split: dim 1, thresh 1.66, thresh ineqal: gt, the weight error: 0.600\n",
      "split: dim 1, thresh 1.77, thresh ineqal: lt, the weight error: 0.400\n",
      "split: dim 1, thresh 1.77, thresh ineqal: gt, the weight error: 0.600\n",
      "split: dim 1, thresh 1.88, thresh ineqal: lt, the weight error: 0.400\n",
      "split: dim 1, thresh 1.88, thresh ineqal: gt, the weight error: 0.600\n",
      "split: dim 1, thresh 1.99, thresh ineqal: lt, the weight error: 0.400\n",
      "split: dim 1, thresh 1.99, thresh ineqal: gt, the weight error: 0.600\n",
      "split: dim 1, thresh 2.10, thresh ineqal: lt, the weight error: 0.600\n",
      "split: dim 1, thresh 2.10, thresh ineqal: gt, the weight error: 0.400\n"
     ]
    },
    {
     "data": {
      "text/plain": [
       "({'dim': 0, 'thresh': matrix([[1.3]]), 'ineq': 'lt'},\n",
       " matrix([[0.2]]),\n",
       " array([[-1.],\n",
       "        [ 1.],\n",
       "        [-1.],\n",
       "        [-1.],\n",
       "        [ 1.]]))"
      ]
     },
     "execution_count": 7,
     "metadata": {},
     "output_type": "execute_result"
    }
   ],
   "source": [
    "build_stump(datmat, labels, D)"
   ]
  },
  {
   "cell_type": "markdown",
   "metadata": {},
   "source": [
    "## AdaBoosting算法的实现\n",
    "\n",
    "伪代码：\n",
    "\n",
    "    对每次迭代\n",
    "        利用build_stump()函数找到最佳单层决策树\n",
    "        将最佳单层决策树加到单层决策树数组\n",
    "        计算alpha\n",
    "        计算新的权重向量D\n",
    "        更新累计类别估计值\n",
    "        如果错误率为0则退出"
   ]
  },
  {
   "cell_type": "code",
   "execution_count": 8,
   "metadata": {},
   "outputs": [],
   "source": [
    "def adaboost_train(data_arr, class_labels, numit=40):\n",
    "    weak_class_arr = []\n",
    "    m = np.shape(data_arr)[0]\n",
    "    D = np.mat(np.ones((m, 1)) / m)\n",
    "    aggclass_est = np.mat(np.zeros((m, 1)))\n",
    "    for i in range(numit):\n",
    "        best_stump, error, class_est = build_stump(data_arr, class_labels, D)\n",
    "        print('D:', D.T)\n",
    "        alpha = float(0.5 * log((1.0 - error) / max(error, 1e-16)))\n",
    "        best_stump['alpha'] = alpha\n",
    "        weak_class_arr.append(best_stump)\n",
    "        print('此次分类结果：', class_est.T)\n",
    "        expon = np.multiply(-1 * alpha * np.mat(class_labels).T, class_est)\n",
    "        D = np.multiply(D, np.exp(expon))\n",
    "        D = D/D.sum()\n",
    "        aggclass_est += alpha * class_est\n",
    "        print('alpha*predic_val:', aggclass_est.T)\n",
    "        agg_error = np.multiply(sign(aggclass_est) != np.mat(class_labels).T, np.ones((m, 1)))\n",
    "        error_rate = agg_error.sum() / m\n",
    "        print('total error;', error_rate)\n",
    "        if error_rate == 0.0:\n",
    "            break\n",
    "    return weak_class_arr,aggclass_est"
   ]
  },
  {
   "cell_type": "code",
   "execution_count": 9,
   "metadata": {},
   "outputs": [
    {
     "name": "stdout",
     "output_type": "stream",
     "text": [
      "split: dim 0, thresh 0.90, thresh ineqal: lt, the weight error: 0.400\n",
      "split: dim 0, thresh 0.90, thresh ineqal: gt, the weight error: 0.600\n",
      "split: dim 0, thresh 1.00, thresh ineqal: lt, the weight error: 0.400\n",
      "split: dim 0, thresh 1.00, thresh ineqal: gt, the weight error: 0.600\n",
      "split: dim 0, thresh 1.10, thresh ineqal: lt, the weight error: 0.400\n",
      "split: dim 0, thresh 1.10, thresh ineqal: gt, the weight error: 0.600\n",
      "split: dim 0, thresh 1.20, thresh ineqal: lt, the weight error: 0.400\n",
      "split: dim 0, thresh 1.20, thresh ineqal: gt, the weight error: 0.600\n",
      "split: dim 0, thresh 1.30, thresh ineqal: lt, the weight error: 0.200\n",
      "split: dim 0, thresh 1.30, thresh ineqal: gt, the weight error: 0.800\n",
      "split: dim 0, thresh 1.40, thresh ineqal: lt, the weight error: 0.200\n",
      "split: dim 0, thresh 1.40, thresh ineqal: gt, the weight error: 0.800\n",
      "split: dim 0, thresh 1.50, thresh ineqal: lt, the weight error: 0.200\n",
      "split: dim 0, thresh 1.50, thresh ineqal: gt, the weight error: 0.800\n",
      "split: dim 0, thresh 1.60, thresh ineqal: lt, the weight error: 0.200\n",
      "split: dim 0, thresh 1.60, thresh ineqal: gt, the weight error: 0.800\n",
      "split: dim 0, thresh 1.70, thresh ineqal: lt, the weight error: 0.200\n",
      "split: dim 0, thresh 1.70, thresh ineqal: gt, the weight error: 0.800\n",
      "split: dim 0, thresh 1.80, thresh ineqal: lt, the weight error: 0.200\n",
      "split: dim 0, thresh 1.80, thresh ineqal: gt, the weight error: 0.800\n",
      "split: dim 0, thresh 1.90, thresh ineqal: lt, the weight error: 0.200\n",
      "split: dim 0, thresh 1.90, thresh ineqal: gt, the weight error: 0.800\n",
      "split: dim 0, thresh 2.00, thresh ineqal: lt, the weight error: 0.600\n",
      "split: dim 0, thresh 2.00, thresh ineqal: gt, the weight error: 0.400\n",
      "split: dim 1, thresh 0.89, thresh ineqal: lt, the weight error: 0.400\n",
      "split: dim 1, thresh 0.89, thresh ineqal: gt, the weight error: 0.600\n",
      "split: dim 1, thresh 1.00, thresh ineqal: lt, the weight error: 0.200\n",
      "split: dim 1, thresh 1.00, thresh ineqal: gt, the weight error: 0.800\n",
      "split: dim 1, thresh 1.11, thresh ineqal: lt, the weight error: 0.400\n",
      "split: dim 1, thresh 1.11, thresh ineqal: gt, the weight error: 0.600\n",
      "split: dim 1, thresh 1.22, thresh ineqal: lt, the weight error: 0.400\n",
      "split: dim 1, thresh 1.22, thresh ineqal: gt, the weight error: 0.600\n",
      "split: dim 1, thresh 1.33, thresh ineqal: lt, the weight error: 0.400\n",
      "split: dim 1, thresh 1.33, thresh ineqal: gt, the weight error: 0.600\n",
      "split: dim 1, thresh 1.44, thresh ineqal: lt, the weight error: 0.400\n",
      "split: dim 1, thresh 1.44, thresh ineqal: gt, the weight error: 0.600\n",
      "split: dim 1, thresh 1.55, thresh ineqal: lt, the weight error: 0.400\n",
      "split: dim 1, thresh 1.55, thresh ineqal: gt, the weight error: 0.600\n",
      "split: dim 1, thresh 1.66, thresh ineqal: lt, the weight error: 0.400\n",
      "split: dim 1, thresh 1.66, thresh ineqal: gt, the weight error: 0.600\n",
      "split: dim 1, thresh 1.77, thresh ineqal: lt, the weight error: 0.400\n",
      "split: dim 1, thresh 1.77, thresh ineqal: gt, the weight error: 0.600\n",
      "split: dim 1, thresh 1.88, thresh ineqal: lt, the weight error: 0.400\n",
      "split: dim 1, thresh 1.88, thresh ineqal: gt, the weight error: 0.600\n",
      "split: dim 1, thresh 1.99, thresh ineqal: lt, the weight error: 0.400\n",
      "split: dim 1, thresh 1.99, thresh ineqal: gt, the weight error: 0.600\n",
      "split: dim 1, thresh 2.10, thresh ineqal: lt, the weight error: 0.600\n",
      "split: dim 1, thresh 2.10, thresh ineqal: gt, the weight error: 0.400\n",
      "D: [[0.2 0.2 0.2 0.2 0.2]]\n",
      "此次分类结果： [[-1.  1. -1. -1.  1.]]\n",
      "alpha*predic_val: [[-0.69314718  0.69314718 -0.69314718 -0.69314718  0.69314718]]\n",
      "total error; 0.2\n",
      "split: dim 0, thresh 0.90, thresh ineqal: lt, the weight error: 0.250\n",
      "split: dim 0, thresh 0.90, thresh ineqal: gt, the weight error: 0.750\n",
      "split: dim 0, thresh 1.00, thresh ineqal: lt, the weight error: 0.625\n",
      "split: dim 0, thresh 1.00, thresh ineqal: gt, the weight error: 0.375\n",
      "split: dim 0, thresh 1.10, thresh ineqal: lt, the weight error: 0.625\n",
      "split: dim 0, thresh 1.10, thresh ineqal: gt, the weight error: 0.375\n",
      "split: dim 0, thresh 1.20, thresh ineqal: lt, the weight error: 0.625\n",
      "split: dim 0, thresh 1.20, thresh ineqal: gt, the weight error: 0.375\n",
      "split: dim 0, thresh 1.30, thresh ineqal: lt, the weight error: 0.500\n",
      "split: dim 0, thresh 1.30, thresh ineqal: gt, the weight error: 0.500\n",
      "split: dim 0, thresh 1.40, thresh ineqal: lt, the weight error: 0.500\n",
      "split: dim 0, thresh 1.40, thresh ineqal: gt, the weight error: 0.500\n",
      "split: dim 0, thresh 1.50, thresh ineqal: lt, the weight error: 0.500\n",
      "split: dim 0, thresh 1.50, thresh ineqal: gt, the weight error: 0.500\n",
      "split: dim 0, thresh 1.60, thresh ineqal: lt, the weight error: 0.500\n",
      "split: dim 0, thresh 1.60, thresh ineqal: gt, the weight error: 0.500\n",
      "split: dim 0, thresh 1.70, thresh ineqal: lt, the weight error: 0.500\n",
      "split: dim 0, thresh 1.70, thresh ineqal: gt, the weight error: 0.500\n",
      "split: dim 0, thresh 1.80, thresh ineqal: lt, the weight error: 0.500\n",
      "split: dim 0, thresh 1.80, thresh ineqal: gt, the weight error: 0.500\n",
      "split: dim 0, thresh 1.90, thresh ineqal: lt, the weight error: 0.500\n",
      "split: dim 0, thresh 1.90, thresh ineqal: gt, the weight error: 0.500\n",
      "split: dim 0, thresh 2.00, thresh ineqal: lt, the weight error: 0.750\n",
      "split: dim 0, thresh 2.00, thresh ineqal: gt, the weight error: 0.250\n",
      "split: dim 1, thresh 0.89, thresh ineqal: lt, the weight error: 0.250\n",
      "split: dim 1, thresh 0.89, thresh ineqal: gt, the weight error: 0.750\n",
      "split: dim 1, thresh 1.00, thresh ineqal: lt, the weight error: 0.125\n",
      "split: dim 1, thresh 1.00, thresh ineqal: gt, the weight error: 0.875\n",
      "split: dim 1, thresh 1.11, thresh ineqal: lt, the weight error: 0.250\n",
      "split: dim 1, thresh 1.11, thresh ineqal: gt, the weight error: 0.750\n",
      "split: dim 1, thresh 1.22, thresh ineqal: lt, the weight error: 0.250\n",
      "split: dim 1, thresh 1.22, thresh ineqal: gt, the weight error: 0.750\n",
      "split: dim 1, thresh 1.33, thresh ineqal: lt, the weight error: 0.250\n",
      "split: dim 1, thresh 1.33, thresh ineqal: gt, the weight error: 0.750\n",
      "split: dim 1, thresh 1.44, thresh ineqal: lt, the weight error: 0.250\n",
      "split: dim 1, thresh 1.44, thresh ineqal: gt, the weight error: 0.750\n",
      "split: dim 1, thresh 1.55, thresh ineqal: lt, the weight error: 0.250\n",
      "split: dim 1, thresh 1.55, thresh ineqal: gt, the weight error: 0.750\n",
      "split: dim 1, thresh 1.66, thresh ineqal: lt, the weight error: 0.250\n",
      "split: dim 1, thresh 1.66, thresh ineqal: gt, the weight error: 0.750\n",
      "split: dim 1, thresh 1.77, thresh ineqal: lt, the weight error: 0.250\n",
      "split: dim 1, thresh 1.77, thresh ineqal: gt, the weight error: 0.750\n",
      "split: dim 1, thresh 1.88, thresh ineqal: lt, the weight error: 0.250\n",
      "split: dim 1, thresh 1.88, thresh ineqal: gt, the weight error: 0.750\n",
      "split: dim 1, thresh 1.99, thresh ineqal: lt, the weight error: 0.250\n",
      "split: dim 1, thresh 1.99, thresh ineqal: gt, the weight error: 0.750\n",
      "split: dim 1, thresh 2.10, thresh ineqal: lt, the weight error: 0.750\n",
      "split: dim 1, thresh 2.10, thresh ineqal: gt, the weight error: 0.250\n",
      "D: [[0.5   0.125 0.125 0.125 0.125]]\n",
      "此次分类结果： [[ 1.  1. -1. -1. -1.]]\n",
      "alpha*predic_val: [[ 0.27980789  1.66610226 -1.66610226 -1.66610226 -0.27980789]]\n",
      "total error; 0.2\n",
      "split: dim 0, thresh 0.90, thresh ineqal: lt, the weight error: 0.143\n",
      "split: dim 0, thresh 0.90, thresh ineqal: gt, the weight error: 0.857\n",
      "split: dim 0, thresh 1.00, thresh ineqal: lt, the weight error: 0.357\n",
      "split: dim 0, thresh 1.00, thresh ineqal: gt, the weight error: 0.643\n",
      "split: dim 0, thresh 1.10, thresh ineqal: lt, the weight error: 0.357\n",
      "split: dim 0, thresh 1.10, thresh ineqal: gt, the weight error: 0.643\n",
      "split: dim 0, thresh 1.20, thresh ineqal: lt, the weight error: 0.357\n",
      "split: dim 0, thresh 1.20, thresh ineqal: gt, the weight error: 0.643\n",
      "split: dim 0, thresh 1.30, thresh ineqal: lt, the weight error: 0.286\n",
      "split: dim 0, thresh 1.30, thresh ineqal: gt, the weight error: 0.714\n",
      "split: dim 0, thresh 1.40, thresh ineqal: lt, the weight error: 0.286\n",
      "split: dim 0, thresh 1.40, thresh ineqal: gt, the weight error: 0.714\n",
      "split: dim 0, thresh 1.50, thresh ineqal: lt, the weight error: 0.286\n",
      "split: dim 0, thresh 1.50, thresh ineqal: gt, the weight error: 0.714\n",
      "split: dim 0, thresh 1.60, thresh ineqal: lt, the weight error: 0.286\n",
      "split: dim 0, thresh 1.60, thresh ineqal: gt, the weight error: 0.714\n",
      "split: dim 0, thresh 1.70, thresh ineqal: lt, the weight error: 0.286\n",
      "split: dim 0, thresh 1.70, thresh ineqal: gt, the weight error: 0.714\n",
      "split: dim 0, thresh 1.80, thresh ineqal: lt, the weight error: 0.286\n",
      "split: dim 0, thresh 1.80, thresh ineqal: gt, the weight error: 0.714\n",
      "split: dim 0, thresh 1.90, thresh ineqal: lt, the weight error: 0.286\n",
      "split: dim 0, thresh 1.90, thresh ineqal: gt, the weight error: 0.714\n",
      "split: dim 0, thresh 2.00, thresh ineqal: lt, the weight error: 0.857\n",
      "split: dim 0, thresh 2.00, thresh ineqal: gt, the weight error: 0.143\n",
      "split: dim 1, thresh 0.89, thresh ineqal: lt, the weight error: 0.143\n",
      "split: dim 1, thresh 0.89, thresh ineqal: gt, the weight error: 0.857\n",
      "split: dim 1, thresh 1.00, thresh ineqal: lt, the weight error: 0.500\n",
      "split: dim 1, thresh 1.00, thresh ineqal: gt, the weight error: 0.500\n",
      "split: dim 1, thresh 1.11, thresh ineqal: lt, the weight error: 0.571\n",
      "split: dim 1, thresh 1.11, thresh ineqal: gt, the weight error: 0.429\n",
      "split: dim 1, thresh 1.22, thresh ineqal: lt, the weight error: 0.571\n",
      "split: dim 1, thresh 1.22, thresh ineqal: gt, the weight error: 0.429\n",
      "split: dim 1, thresh 1.33, thresh ineqal: lt, the weight error: 0.571\n",
      "split: dim 1, thresh 1.33, thresh ineqal: gt, the weight error: 0.429\n",
      "split: dim 1, thresh 1.44, thresh ineqal: lt, the weight error: 0.571\n",
      "split: dim 1, thresh 1.44, thresh ineqal: gt, the weight error: 0.429\n",
      "split: dim 1, thresh 1.55, thresh ineqal: lt, the weight error: 0.571\n",
      "split: dim 1, thresh 1.55, thresh ineqal: gt, the weight error: 0.429\n",
      "split: dim 1, thresh 1.66, thresh ineqal: lt, the weight error: 0.571\n",
      "split: dim 1, thresh 1.66, thresh ineqal: gt, the weight error: 0.429\n",
      "split: dim 1, thresh 1.77, thresh ineqal: lt, the weight error: 0.571\n",
      "split: dim 1, thresh 1.77, thresh ineqal: gt, the weight error: 0.429\n",
      "split: dim 1, thresh 1.88, thresh ineqal: lt, the weight error: 0.571\n",
      "split: dim 1, thresh 1.88, thresh ineqal: gt, the weight error: 0.429\n",
      "split: dim 1, thresh 1.99, thresh ineqal: lt, the weight error: 0.571\n",
      "split: dim 1, thresh 1.99, thresh ineqal: gt, the weight error: 0.429\n",
      "split: dim 1, thresh 2.10, thresh ineqal: lt, the weight error: 0.857\n",
      "split: dim 1, thresh 2.10, thresh ineqal: gt, the weight error: 0.143\n",
      "D: [[0.28571429 0.07142857 0.07142857 0.07142857 0.5       ]]\n",
      "此次分类结果： [[1. 1. 1. 1. 1.]]\n",
      "alpha*predic_val: [[ 1.17568763  2.56198199 -0.77022252 -0.77022252  0.61607184]]\n",
      "total error; 0.0\n"
     ]
    },
    {
     "data": {
      "text/plain": [
       "([{'dim': 0,\n",
       "   'thresh': matrix([[1.3]]),\n",
       "   'ineq': 'lt',\n",
       "   'alpha': 0.6931471805599453},\n",
       "  {'dim': 1,\n",
       "   'thresh': matrix([[1.]]),\n",
       "   'ineq': 'lt',\n",
       "   'alpha': 0.9729550745276565},\n",
       "  {'dim': 0,\n",
       "   'thresh': matrix([[0.9]]),\n",
       "   'ineq': 'lt',\n",
       "   'alpha': 0.8958797346140273}],\n",
       " matrix([[ 1.17568763],\n",
       "         [ 2.56198199],\n",
       "         [-0.77022252],\n",
       "         [-0.77022252],\n",
       "         [ 0.61607184]]))"
      ]
     },
     "execution_count": 9,
     "metadata": {},
     "output_type": "execute_result"
    }
   ],
   "source": [
    "adaboost_train(datmat, labels, 9)"
   ]
  },
  {
   "cell_type": "markdown",
   "metadata": {},
   "source": [
    "## 测试算法"
   ]
  },
  {
   "cell_type": "code",
   "execution_count": 10,
   "metadata": {},
   "outputs": [],
   "source": [
    " def ada_classfiy(data2class, classfier_arr):\n",
    "    datamat = np.mat(data2class)\n",
    "    m = np.shape(datamat)[0]\n",
    "    agg_class_est = np.mat(np.zeros((m, 1)))\n",
    "    for i in range(len(classfier_arr)):\n",
    "        class_est = stump_classfiy(datamat, classfier_arr[i]['dim'], classfier_arr[i]['thresh'],classfier_arr[i]['ineq'])\n",
    "        agg_class_est += classfier_arr[i]['alpha'] * class_est\n",
    "        print('agg_class_est:', agg_class_est)\n",
    "    return sign(agg_class_est)"
   ]
  },
  {
   "cell_type": "code",
   "execution_count": 11,
   "metadata": {
    "scrolled": false
   },
   "outputs": [
    {
     "name": "stdout",
     "output_type": "stream",
     "text": [
      "split: dim 0, thresh 0.90, thresh ineqal: lt, the weight error: 0.400\n",
      "split: dim 0, thresh 0.90, thresh ineqal: gt, the weight error: 0.600\n",
      "split: dim 0, thresh 1.00, thresh ineqal: lt, the weight error: 0.400\n",
      "split: dim 0, thresh 1.00, thresh ineqal: gt, the weight error: 0.600\n",
      "split: dim 0, thresh 1.10, thresh ineqal: lt, the weight error: 0.400\n",
      "split: dim 0, thresh 1.10, thresh ineqal: gt, the weight error: 0.600\n",
      "split: dim 0, thresh 1.20, thresh ineqal: lt, the weight error: 0.400\n",
      "split: dim 0, thresh 1.20, thresh ineqal: gt, the weight error: 0.600\n",
      "split: dim 0, thresh 1.30, thresh ineqal: lt, the weight error: 0.200\n",
      "split: dim 0, thresh 1.30, thresh ineqal: gt, the weight error: 0.800\n",
      "split: dim 0, thresh 1.40, thresh ineqal: lt, the weight error: 0.200\n",
      "split: dim 0, thresh 1.40, thresh ineqal: gt, the weight error: 0.800\n",
      "split: dim 0, thresh 1.50, thresh ineqal: lt, the weight error: 0.200\n",
      "split: dim 0, thresh 1.50, thresh ineqal: gt, the weight error: 0.800\n",
      "split: dim 0, thresh 1.60, thresh ineqal: lt, the weight error: 0.200\n",
      "split: dim 0, thresh 1.60, thresh ineqal: gt, the weight error: 0.800\n",
      "split: dim 0, thresh 1.70, thresh ineqal: lt, the weight error: 0.200\n",
      "split: dim 0, thresh 1.70, thresh ineqal: gt, the weight error: 0.800\n",
      "split: dim 0, thresh 1.80, thresh ineqal: lt, the weight error: 0.200\n",
      "split: dim 0, thresh 1.80, thresh ineqal: gt, the weight error: 0.800\n",
      "split: dim 0, thresh 1.90, thresh ineqal: lt, the weight error: 0.200\n",
      "split: dim 0, thresh 1.90, thresh ineqal: gt, the weight error: 0.800\n",
      "split: dim 0, thresh 2.00, thresh ineqal: lt, the weight error: 0.600\n",
      "split: dim 0, thresh 2.00, thresh ineqal: gt, the weight error: 0.400\n",
      "split: dim 1, thresh 0.89, thresh ineqal: lt, the weight error: 0.400\n",
      "split: dim 1, thresh 0.89, thresh ineqal: gt, the weight error: 0.600\n",
      "split: dim 1, thresh 1.00, thresh ineqal: lt, the weight error: 0.200\n",
      "split: dim 1, thresh 1.00, thresh ineqal: gt, the weight error: 0.800\n",
      "split: dim 1, thresh 1.11, thresh ineqal: lt, the weight error: 0.400\n",
      "split: dim 1, thresh 1.11, thresh ineqal: gt, the weight error: 0.600\n",
      "split: dim 1, thresh 1.22, thresh ineqal: lt, the weight error: 0.400\n",
      "split: dim 1, thresh 1.22, thresh ineqal: gt, the weight error: 0.600\n",
      "split: dim 1, thresh 1.33, thresh ineqal: lt, the weight error: 0.400\n",
      "split: dim 1, thresh 1.33, thresh ineqal: gt, the weight error: 0.600\n",
      "split: dim 1, thresh 1.44, thresh ineqal: lt, the weight error: 0.400\n",
      "split: dim 1, thresh 1.44, thresh ineqal: gt, the weight error: 0.600\n",
      "split: dim 1, thresh 1.55, thresh ineqal: lt, the weight error: 0.400\n",
      "split: dim 1, thresh 1.55, thresh ineqal: gt, the weight error: 0.600\n",
      "split: dim 1, thresh 1.66, thresh ineqal: lt, the weight error: 0.400\n",
      "split: dim 1, thresh 1.66, thresh ineqal: gt, the weight error: 0.600\n",
      "split: dim 1, thresh 1.77, thresh ineqal: lt, the weight error: 0.400\n",
      "split: dim 1, thresh 1.77, thresh ineqal: gt, the weight error: 0.600\n",
      "split: dim 1, thresh 1.88, thresh ineqal: lt, the weight error: 0.400\n",
      "split: dim 1, thresh 1.88, thresh ineqal: gt, the weight error: 0.600\n",
      "split: dim 1, thresh 1.99, thresh ineqal: lt, the weight error: 0.400\n",
      "split: dim 1, thresh 1.99, thresh ineqal: gt, the weight error: 0.600\n",
      "split: dim 1, thresh 2.10, thresh ineqal: lt, the weight error: 0.600\n",
      "split: dim 1, thresh 2.10, thresh ineqal: gt, the weight error: 0.400\n",
      "D: [[0.2 0.2 0.2 0.2 0.2]]\n",
      "此次分类结果： [[-1.  1. -1. -1.  1.]]\n",
      "alpha*predic_val: [[-0.69314718  0.69314718 -0.69314718 -0.69314718  0.69314718]]\n",
      "total error; 0.2\n",
      "split: dim 0, thresh 0.90, thresh ineqal: lt, the weight error: 0.250\n",
      "split: dim 0, thresh 0.90, thresh ineqal: gt, the weight error: 0.750\n",
      "split: dim 0, thresh 1.00, thresh ineqal: lt, the weight error: 0.625\n",
      "split: dim 0, thresh 1.00, thresh ineqal: gt, the weight error: 0.375\n",
      "split: dim 0, thresh 1.10, thresh ineqal: lt, the weight error: 0.625\n",
      "split: dim 0, thresh 1.10, thresh ineqal: gt, the weight error: 0.375\n",
      "split: dim 0, thresh 1.20, thresh ineqal: lt, the weight error: 0.625\n",
      "split: dim 0, thresh 1.20, thresh ineqal: gt, the weight error: 0.375\n",
      "split: dim 0, thresh 1.30, thresh ineqal: lt, the weight error: 0.500\n",
      "split: dim 0, thresh 1.30, thresh ineqal: gt, the weight error: 0.500\n",
      "split: dim 0, thresh 1.40, thresh ineqal: lt, the weight error: 0.500\n",
      "split: dim 0, thresh 1.40, thresh ineqal: gt, the weight error: 0.500\n",
      "split: dim 0, thresh 1.50, thresh ineqal: lt, the weight error: 0.500\n",
      "split: dim 0, thresh 1.50, thresh ineqal: gt, the weight error: 0.500\n",
      "split: dim 0, thresh 1.60, thresh ineqal: lt, the weight error: 0.500\n",
      "split: dim 0, thresh 1.60, thresh ineqal: gt, the weight error: 0.500\n",
      "split: dim 0, thresh 1.70, thresh ineqal: lt, the weight error: 0.500\n",
      "split: dim 0, thresh 1.70, thresh ineqal: gt, the weight error: 0.500\n",
      "split: dim 0, thresh 1.80, thresh ineqal: lt, the weight error: 0.500\n",
      "split: dim 0, thresh 1.80, thresh ineqal: gt, the weight error: 0.500\n",
      "split: dim 0, thresh 1.90, thresh ineqal: lt, the weight error: 0.500\n",
      "split: dim 0, thresh 1.90, thresh ineqal: gt, the weight error: 0.500\n",
      "split: dim 0, thresh 2.00, thresh ineqal: lt, the weight error: 0.750\n",
      "split: dim 0, thresh 2.00, thresh ineqal: gt, the weight error: 0.250\n",
      "split: dim 1, thresh 0.89, thresh ineqal: lt, the weight error: 0.250\n",
      "split: dim 1, thresh 0.89, thresh ineqal: gt, the weight error: 0.750\n",
      "split: dim 1, thresh 1.00, thresh ineqal: lt, the weight error: 0.125\n",
      "split: dim 1, thresh 1.00, thresh ineqal: gt, the weight error: 0.875\n",
      "split: dim 1, thresh 1.11, thresh ineqal: lt, the weight error: 0.250\n",
      "split: dim 1, thresh 1.11, thresh ineqal: gt, the weight error: 0.750\n",
      "split: dim 1, thresh 1.22, thresh ineqal: lt, the weight error: 0.250\n",
      "split: dim 1, thresh 1.22, thresh ineqal: gt, the weight error: 0.750\n",
      "split: dim 1, thresh 1.33, thresh ineqal: lt, the weight error: 0.250\n",
      "split: dim 1, thresh 1.33, thresh ineqal: gt, the weight error: 0.750\n",
      "split: dim 1, thresh 1.44, thresh ineqal: lt, the weight error: 0.250\n",
      "split: dim 1, thresh 1.44, thresh ineqal: gt, the weight error: 0.750\n",
      "split: dim 1, thresh 1.55, thresh ineqal: lt, the weight error: 0.250\n",
      "split: dim 1, thresh 1.55, thresh ineqal: gt, the weight error: 0.750\n",
      "split: dim 1, thresh 1.66, thresh ineqal: lt, the weight error: 0.250\n",
      "split: dim 1, thresh 1.66, thresh ineqal: gt, the weight error: 0.750\n",
      "split: dim 1, thresh 1.77, thresh ineqal: lt, the weight error: 0.250\n",
      "split: dim 1, thresh 1.77, thresh ineqal: gt, the weight error: 0.750\n",
      "split: dim 1, thresh 1.88, thresh ineqal: lt, the weight error: 0.250\n",
      "split: dim 1, thresh 1.88, thresh ineqal: gt, the weight error: 0.750\n",
      "split: dim 1, thresh 1.99, thresh ineqal: lt, the weight error: 0.250\n",
      "split: dim 1, thresh 1.99, thresh ineqal: gt, the weight error: 0.750\n",
      "split: dim 1, thresh 2.10, thresh ineqal: lt, the weight error: 0.750\n",
      "split: dim 1, thresh 2.10, thresh ineqal: gt, the weight error: 0.250\n",
      "D: [[0.5   0.125 0.125 0.125 0.125]]\n",
      "此次分类结果： [[ 1.  1. -1. -1. -1.]]\n",
      "alpha*predic_val: [[ 0.27980789  1.66610226 -1.66610226 -1.66610226 -0.27980789]]\n",
      "total error; 0.2\n",
      "split: dim 0, thresh 0.90, thresh ineqal: lt, the weight error: 0.143\n",
      "split: dim 0, thresh 0.90, thresh ineqal: gt, the weight error: 0.857\n",
      "split: dim 0, thresh 1.00, thresh ineqal: lt, the weight error: 0.357\n",
      "split: dim 0, thresh 1.00, thresh ineqal: gt, the weight error: 0.643\n",
      "split: dim 0, thresh 1.10, thresh ineqal: lt, the weight error: 0.357\n",
      "split: dim 0, thresh 1.10, thresh ineqal: gt, the weight error: 0.643\n",
      "split: dim 0, thresh 1.20, thresh ineqal: lt, the weight error: 0.357\n",
      "split: dim 0, thresh 1.20, thresh ineqal: gt, the weight error: 0.643\n",
      "split: dim 0, thresh 1.30, thresh ineqal: lt, the weight error: 0.286\n",
      "split: dim 0, thresh 1.30, thresh ineqal: gt, the weight error: 0.714\n",
      "split: dim 0, thresh 1.40, thresh ineqal: lt, the weight error: 0.286\n",
      "split: dim 0, thresh 1.40, thresh ineqal: gt, the weight error: 0.714\n",
      "split: dim 0, thresh 1.50, thresh ineqal: lt, the weight error: 0.286\n",
      "split: dim 0, thresh 1.50, thresh ineqal: gt, the weight error: 0.714\n",
      "split: dim 0, thresh 1.60, thresh ineqal: lt, the weight error: 0.286\n",
      "split: dim 0, thresh 1.60, thresh ineqal: gt, the weight error: 0.714\n",
      "split: dim 0, thresh 1.70, thresh ineqal: lt, the weight error: 0.286\n",
      "split: dim 0, thresh 1.70, thresh ineqal: gt, the weight error: 0.714\n",
      "split: dim 0, thresh 1.80, thresh ineqal: lt, the weight error: 0.286\n",
      "split: dim 0, thresh 1.80, thresh ineqal: gt, the weight error: 0.714\n",
      "split: dim 0, thresh 1.90, thresh ineqal: lt, the weight error: 0.286\n",
      "split: dim 0, thresh 1.90, thresh ineqal: gt, the weight error: 0.714\n",
      "split: dim 0, thresh 2.00, thresh ineqal: lt, the weight error: 0.857\n",
      "split: dim 0, thresh 2.00, thresh ineqal: gt, the weight error: 0.143\n",
      "split: dim 1, thresh 0.89, thresh ineqal: lt, the weight error: 0.143\n",
      "split: dim 1, thresh 0.89, thresh ineqal: gt, the weight error: 0.857\n",
      "split: dim 1, thresh 1.00, thresh ineqal: lt, the weight error: 0.500\n",
      "split: dim 1, thresh 1.00, thresh ineqal: gt, the weight error: 0.500\n",
      "split: dim 1, thresh 1.11, thresh ineqal: lt, the weight error: 0.571\n",
      "split: dim 1, thresh 1.11, thresh ineqal: gt, the weight error: 0.429\n",
      "split: dim 1, thresh 1.22, thresh ineqal: lt, the weight error: 0.571\n",
      "split: dim 1, thresh 1.22, thresh ineqal: gt, the weight error: 0.429\n",
      "split: dim 1, thresh 1.33, thresh ineqal: lt, the weight error: 0.571\n",
      "split: dim 1, thresh 1.33, thresh ineqal: gt, the weight error: 0.429\n",
      "split: dim 1, thresh 1.44, thresh ineqal: lt, the weight error: 0.571\n",
      "split: dim 1, thresh 1.44, thresh ineqal: gt, the weight error: 0.429\n",
      "split: dim 1, thresh 1.55, thresh ineqal: lt, the weight error: 0.571\n",
      "split: dim 1, thresh 1.55, thresh ineqal: gt, the weight error: 0.429\n",
      "split: dim 1, thresh 1.66, thresh ineqal: lt, the weight error: 0.571\n",
      "split: dim 1, thresh 1.66, thresh ineqal: gt, the weight error: 0.429\n",
      "split: dim 1, thresh 1.77, thresh ineqal: lt, the weight error: 0.571\n",
      "split: dim 1, thresh 1.77, thresh ineqal: gt, the weight error: 0.429\n",
      "split: dim 1, thresh 1.88, thresh ineqal: lt, the weight error: 0.571\n",
      "split: dim 1, thresh 1.88, thresh ineqal: gt, the weight error: 0.429\n",
      "split: dim 1, thresh 1.99, thresh ineqal: lt, the weight error: 0.571\n",
      "split: dim 1, thresh 1.99, thresh ineqal: gt, the weight error: 0.429\n",
      "split: dim 1, thresh 2.10, thresh ineqal: lt, the weight error: 0.857\n",
      "split: dim 1, thresh 2.10, thresh ineqal: gt, the weight error: 0.143\n",
      "D: [[0.28571429 0.07142857 0.07142857 0.07142857 0.5       ]]\n",
      "此次分类结果： [[1. 1. 1. 1. 1.]]\n",
      "alpha*predic_val: [[ 1.17568763  2.56198199 -0.77022252 -0.77022252  0.61607184]]\n",
      "total error; 0.0\n"
     ]
    }
   ],
   "source": [
    "classfiy_arr = adaboost_train(datmat, labels, 30)"
   ]
  },
  {
   "cell_type": "code",
   "execution_count": 12,
   "metadata": {},
   "outputs": [
    {
     "ename": "TypeError",
     "evalue": "list indices must be integers or slices, not str",
     "output_type": "error",
     "traceback": [
      "\u001b[1;31m---------------------------------------------------------------------------\u001b[0m",
      "\u001b[1;31mTypeError\u001b[0m                                 Traceback (most recent call last)",
      "\u001b[1;32m<ipython-input-12-f55eeea81d21>\u001b[0m in \u001b[0;36m<module>\u001b[1;34m\u001b[0m\n\u001b[1;32m----> 1\u001b[1;33m \u001b[0mada_classfiy\u001b[0m\u001b[1;33m(\u001b[0m\u001b[1;33m[\u001b[0m\u001b[1;36m0\u001b[0m\u001b[1;33m,\u001b[0m \u001b[1;36m0\u001b[0m\u001b[1;33m]\u001b[0m\u001b[1;33m,\u001b[0m \u001b[0mclassfiy_arr\u001b[0m\u001b[1;33m)\u001b[0m\u001b[1;33m\u001b[0m\u001b[1;33m\u001b[0m\u001b[0m\n\u001b[0m",
      "\u001b[1;32m<ipython-input-10-d2949e394a11>\u001b[0m in \u001b[0;36mada_classfiy\u001b[1;34m(data2class, classfier_arr)\u001b[0m\n\u001b[0;32m      4\u001b[0m    \u001b[0magg_class_est\u001b[0m \u001b[1;33m=\u001b[0m \u001b[0mnp\u001b[0m\u001b[1;33m.\u001b[0m\u001b[0mmat\u001b[0m\u001b[1;33m(\u001b[0m\u001b[0mnp\u001b[0m\u001b[1;33m.\u001b[0m\u001b[0mzeros\u001b[0m\u001b[1;33m(\u001b[0m\u001b[1;33m(\u001b[0m\u001b[0mm\u001b[0m\u001b[1;33m,\u001b[0m \u001b[1;36m1\u001b[0m\u001b[1;33m)\u001b[0m\u001b[1;33m)\u001b[0m\u001b[1;33m)\u001b[0m\u001b[1;33m\u001b[0m\u001b[1;33m\u001b[0m\u001b[0m\n\u001b[0;32m      5\u001b[0m    \u001b[1;32mfor\u001b[0m \u001b[0mi\u001b[0m \u001b[1;32min\u001b[0m \u001b[0mrange\u001b[0m\u001b[1;33m(\u001b[0m\u001b[0mlen\u001b[0m\u001b[1;33m(\u001b[0m\u001b[0mclassfier_arr\u001b[0m\u001b[1;33m)\u001b[0m\u001b[1;33m)\u001b[0m\u001b[1;33m:\u001b[0m\u001b[1;33m\u001b[0m\u001b[1;33m\u001b[0m\u001b[0m\n\u001b[1;32m----> 6\u001b[1;33m        \u001b[0mclass_est\u001b[0m \u001b[1;33m=\u001b[0m \u001b[0mstump_classfiy\u001b[0m\u001b[1;33m(\u001b[0m\u001b[0mdatamat\u001b[0m\u001b[1;33m,\u001b[0m \u001b[0mclassfier_arr\u001b[0m\u001b[1;33m[\u001b[0m\u001b[0mi\u001b[0m\u001b[1;33m]\u001b[0m\u001b[1;33m[\u001b[0m\u001b[1;34m'dim'\u001b[0m\u001b[1;33m]\u001b[0m\u001b[1;33m,\u001b[0m \u001b[0mclassfier_arr\u001b[0m\u001b[1;33m[\u001b[0m\u001b[0mi\u001b[0m\u001b[1;33m]\u001b[0m\u001b[1;33m[\u001b[0m\u001b[1;34m'thresh'\u001b[0m\u001b[1;33m]\u001b[0m\u001b[1;33m,\u001b[0m\u001b[0mclassfier_arr\u001b[0m\u001b[1;33m[\u001b[0m\u001b[0mi\u001b[0m\u001b[1;33m]\u001b[0m\u001b[1;33m[\u001b[0m\u001b[1;34m'ineq'\u001b[0m\u001b[1;33m]\u001b[0m\u001b[1;33m)\u001b[0m\u001b[1;33m\u001b[0m\u001b[1;33m\u001b[0m\u001b[0m\n\u001b[0m\u001b[0;32m      7\u001b[0m        \u001b[0magg_class_est\u001b[0m \u001b[1;33m+=\u001b[0m \u001b[0mclassfier_arr\u001b[0m\u001b[1;33m[\u001b[0m\u001b[0mi\u001b[0m\u001b[1;33m]\u001b[0m\u001b[1;33m[\u001b[0m\u001b[1;34m'alpha'\u001b[0m\u001b[1;33m]\u001b[0m \u001b[1;33m*\u001b[0m \u001b[0mclass_est\u001b[0m\u001b[1;33m\u001b[0m\u001b[1;33m\u001b[0m\u001b[0m\n\u001b[0;32m      8\u001b[0m        \u001b[0mprint\u001b[0m\u001b[1;33m(\u001b[0m\u001b[1;34m'agg_class_est:'\u001b[0m\u001b[1;33m,\u001b[0m \u001b[0magg_class_est\u001b[0m\u001b[1;33m)\u001b[0m\u001b[1;33m\u001b[0m\u001b[1;33m\u001b[0m\u001b[0m\n",
      "\u001b[1;31mTypeError\u001b[0m: list indices must be integers or slices, not str"
     ]
    }
   ],
   "source": [
    "ada_classfiy([0, 0], classfiy_arr)"
   ]
  },
  {
   "cell_type": "code",
   "execution_count": null,
   "metadata": {},
   "outputs": [],
   "source": [
    "ada_classfiy([5, 5], classfiy_arr)"
   ]
  },
  {
   "cell_type": "markdown",
   "metadata": {},
   "source": [
    "## 示例：在一个难数据集上应用AdaBoost"
   ]
  },
  {
   "cell_type": "markdown",
   "metadata": {},
   "source": [
    "* 导入数据"
   ]
  },
  {
   "cell_type": "code",
   "execution_count": null,
   "metadata": {},
   "outputs": [],
   "source": [
    "def load_dataset(filename):\n",
    "    num_feat = len(open(filename).readline().split('\\t'))\n",
    "    datamat = []\n",
    "    labelmat = []\n",
    "    fr = open(filename)\n",
    "    for line in fr.readlines():\n",
    "        line_arr = []\n",
    "        cur_line = line.strip().split('\\t')\n",
    "        for i in range(num_feat-1):\n",
    "            line_arr.append(float(cur_line[i]))\n",
    "        datamat.append(line_arr)\n",
    "        labelmat.append(float(cur_line[-1]))\n",
    "    return datamat, labelmat"
   ]
  },
  {
   "cell_type": "code",
   "execution_count": null,
   "metadata": {},
   "outputs": [],
   "source": [
    "data_arr, label_arr = load_dataset('horseColicTraining2.txt')"
   ]
  },
  {
   "cell_type": "markdown",
   "metadata": {},
   "source": [
    "* 训练算法，利用adaboost_train()训练出一系列的分类器"
   ]
  },
  {
   "cell_type": "code",
   "execution_count": null,
   "metadata": {},
   "outputs": [],
   "source": [
    "classifiy_arr = adaboost_train(data_arr, label_arr, 10)"
   ]
  },
  {
   "cell_type": "markdown",
   "metadata": {},
   "source": [
    "* 测试算法"
   ]
  },
  {
   "cell_type": "code",
   "execution_count": null,
   "metadata": {},
   "outputs": [],
   "source": [
    "test_data_arr, test_label_arr = load_dataset('horseColicTest2.txt')"
   ]
  },
  {
   "cell_type": "code",
   "execution_count": null,
   "metadata": {},
   "outputs": [],
   "source": [
    "predict_arr = ada_classfiy(test_data_arr, classifiy_arr)"
   ]
  },
  {
   "cell_type": "code",
   "execution_count": null,
   "metadata": {},
   "outputs": [],
   "source": [
    "error_arr = np.mat(np.ones((67, 1)))\n",
    "error_arr[predict_arr != np.mat(test_label_arr).T].sum()"
   ]
  },
  {
   "cell_type": "code",
   "execution_count": null,
   "metadata": {},
   "outputs": [],
   "source": []
  }
 ],
 "metadata": {
  "kernelspec": {
   "display_name": "Python 3",
   "language": "python",
   "name": "python3"
  },
  "language_info": {
   "codemirror_mode": {
    "name": "ipython",
    "version": 3
   },
   "file_extension": ".py",
   "mimetype": "text/x-python",
   "name": "python",
   "nbconvert_exporter": "python",
   "pygments_lexer": "ipython3",
   "version": "3.7.6"
  }
 },
 "nbformat": 4,
 "nbformat_minor": 4
}
