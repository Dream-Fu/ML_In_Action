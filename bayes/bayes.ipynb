{
 "cells": [
  {
   "cell_type": "markdown",
   "metadata": {},
   "source": [
    "# 朴素贝叶斯\n",
    "计算和比较$p(c_1|x,y)$和$p(c_2|x,y)$，其代表含义为\n",
    "    给定某个由x、y表示的数据点，该数据来自$c_i$的概率为多少\n",
    "    \n",
    "其计算公式为：\n",
    "\n",
    "$p(c_i|x, y) = \\frac{p(x, y|c_i)p(c_i)}{p(x, y)}$\n",
    "\n",
    "朴素指的是我们对样本做两个假设：\n",
    "* 样本特征之间相互独立\n",
    "* 每个特征同等重要\n",
    "\n",
    "朴素贝叶斯通常两种实现方式：\n",
    "* 基于贝努利模型实现\n",
    "* 基于多项式模型实现\n",
    "\n",
    "本次采用贝努利模型实现"
   ]
  },
  {
   "cell_type": "markdown",
   "metadata": {},
   "source": [
    "## 使用py进行文本分类\n",
    "\n",
    "### Step 1:从文本中构建词向量\n",
    "\n",
    "词集模型（set-of-words model）：将每个词的出现与否作为一个特征，每个词只出现一次"
   ]
  },
  {
   "cell_type": "code",
   "execution_count": 1,
   "metadata": {},
   "outputs": [],
   "source": [
    "def load_dataset():\n",
    "        posting_list = [['my', 'dog', 'has', 'flea', 'problems', 'help', 'please'],\n",
    "                   ['maybe', 'not', 'take', 'him', 'to', 'dog', 'park', 'stupid'],\n",
    "                   ['my', 'dalmation', 'is', 'so', 'cute', 'I', 'love', 'him'],\n",
    "                   ['stop', 'posting', 'stupid', 'worthless', 'garbage'],\n",
    "                   ['mr', 'licks', 'ate', 'my', 'steak', 'how', 'to', 'stop', 'him'],\n",
    "                   ['quit', 'buying', 'worthless', 'dog', 'food', 'stupid']]\n",
    "        class_vec = [0, 1, 0, 1, 0, 1]    #1 is abusive, 0 not\n",
    "        return posting_list, class_vec"
   ]
  },
  {
   "cell_type": "code",
   "execution_count": 2,
   "metadata": {},
   "outputs": [],
   "source": [
    "def create_vocablist(dataset):\n",
    "    vocabset = set([])\n",
    "    for doc in dataset:\n",
    "        vocabset = vocabset | set(doc)\n",
    "    return list(vocabset)"
   ]
  },
  {
   "cell_type": "code",
   "execution_count": 3,
   "metadata": {},
   "outputs": [],
   "source": [
    "def setOfWords2Vec(vocablist, inputset):\n",
    "    return_vec = [0] * len(vocablist)\n",
    "    for word in inputset:\n",
    "        if word in vocablist:\n",
    "            return_vec[vocablist.index(word)] = 1\n",
    "        else:\n",
    "            print('the word : %s is not in my vocablist' %word)\n",
    "    return return_vec"
   ]
  },
  {
   "cell_type": "code",
   "execution_count": 4,
   "metadata": {},
   "outputs": [],
   "source": [
    "dataset, label = load_dataset()"
   ]
  },
  {
   "cell_type": "code",
   "execution_count": 5,
   "metadata": {},
   "outputs": [],
   "source": [
    "vocablist = create_vocablist(dataset)\n",
    "print(vocablist)"
   ]
  },
  {
   "cell_type": "code",
   "execution_count": 6,
   "metadata": {},
   "outputs": [],
   "source": [
    "train_data = []\n",
    "for i in range(len(dataset)):\n",
    "    train_data.append(setOfWords2Vec(vocablist, dataset[i]))\n",
    "print(train_data)"
   ]
  },
  {
   "cell_type": "markdown",
   "metadata": {},
   "source": [
    "## Step 2: 训练算法：从词向量计算概率\n",
    "计算$p(c_i|w) = \\frac{p(w|c_i)p(c_i)}{p(w)}$ \n",
    "\n",
    "w为一个向量\n",
    "\n",
    "$p(c_i)$：类别i中 文档数/总文档数\n",
    "\n",
    "$p(w|c_i)$：用朴素贝叶斯假设，将w视为独立特征，\n",
    "\n",
    "就有：\n",
    "$p(w_0,w_1,w_2...w_N|c_i) = p(w_0|c_i)p(w_1|c_i)p(w_2|c_i)...p(w_N|c_i)$\n",
    "\n",
    "因为$p(w_0|c_i)p(w_1|c_i)p(w_2|c_i)...p(w_N|c_i)$因子很小，会出现程序下溢，所以我们采用取对数的方式进行计算\n",
    "\n",
    "同时计算乘积时如果其中一个因子为零，其乘积结果也为零，所以取分子为1，分母为2\n"
   ]
  },
  {
   "cell_type": "code",
   "execution_count": 7,
   "metadata": {},
   "outputs": [],
   "source": [
    "import numpy as np\n",
    "def train_bayes(train_data, train_label):\n",
    "    num_data = len(train_data)\n",
    "    num_feat = len(train_data[0])\n",
    "    p_absive = sum(train_label) / float(num_data)\n",
    "    p0_num = np.ones(num_feat)\n",
    "    p0_sumword = 2.0\n",
    "    p1_num = np.ones(num_feat)\n",
    "    p1_sumword = 2.0\n",
    "    for i in range(num_data):\n",
    "        if train_label[i] == 1:\n",
    "            p1_num += train_data[i]\n",
    "            p1_sumword += sum(train_data[i])\n",
    "        else:\n",
    "            p0_num += train_data[i]\n",
    "            p0_sumword += sum(train_data[i])\n",
    "    p1_vec = np.log(p1_num / p1_sumword)\n",
    "    p0_vec = np.log(p0_num / p0_sumword)\n",
    "    return p0_vec, p1_vec,p_absive"
   ]
  },
  {
   "cell_type": "code",
   "execution_count": 8,
   "metadata": {},
   "outputs": [
    {
     "data": {
      "text/plain": [
       "(array([-2.56494936, -2.56494936, -3.25809654, -3.25809654, -3.25809654,\n",
       "        -3.25809654, -2.56494936, -2.56494936, -2.56494936, -3.25809654,\n",
       "        -3.25809654, -2.56494936, -2.56494936, -2.56494936, -2.56494936,\n",
       "        -2.56494936, -3.25809654, -1.87180218, -2.56494936, -2.56494936,\n",
       "        -2.56494936, -2.56494936, -2.56494936, -3.25809654, -2.15948425,\n",
       "        -3.25809654, -2.56494936, -3.25809654, -2.56494936, -2.56494936,\n",
       "        -2.56494936, -3.25809654]),\n",
       " array([-3.04452244, -3.04452244, -2.35137526, -1.94591015, -2.35137526,\n",
       "        -2.35137526, -3.04452244, -2.35137526, -3.04452244, -2.35137526,\n",
       "        -2.35137526, -3.04452244, -3.04452244, -1.94591015, -3.04452244,\n",
       "        -3.04452244, -2.35137526, -3.04452244, -3.04452244, -3.04452244,\n",
       "        -3.04452244, -2.35137526, -3.04452244, -2.35137526, -2.35137526,\n",
       "        -2.35137526, -3.04452244, -1.65822808, -3.04452244, -3.04452244,\n",
       "        -3.04452244, -2.35137526]),\n",
       " 0.5)"
      ]
     },
     "execution_count": 8,
     "metadata": {},
     "output_type": "execute_result"
    }
   ],
   "source": [
    "train_bayes(train_data, label)"
   ]
  },
  {
   "cell_type": "code",
   "execution_count": 9,
   "metadata": {},
   "outputs": [],
   "source": [
    "def classify_bayes(test_vec, p0_vec, p1_vec, p_class1):\n",
    "    p1 = sum(test_vec * p1_vec) + np.log(p_class1)\n",
    "    p0 = sum(test_vec * p0_vec) + np.log(1.0 - p_class1)\n",
    "    if p1 > p0:\n",
    "        return 1\n",
    "    else:\n",
    "        return 0"
   ]
  },
  {
   "cell_type": "markdown",
   "metadata": {},
   "source": [
    "## Step 3： 测试算法"
   ]
  },
  {
   "cell_type": "code",
   "execution_count": 10,
   "metadata": {},
   "outputs": [],
   "source": [
    "def test():\n",
    "    # 准备数据\n",
    "    dataset,label = load_dataset()\n",
    "    vocab_list = create_vocablist(dataset)\n",
    "    # 将单词转化为向量\n",
    "    data_vec = []\n",
    "    for doc in dataset:\n",
    "        data_vec.append(setOfWords2Vec(vocab_list, doc))\n",
    "    # 训练算法 \n",
    "    p0_vec,p1_vec,p_absive = train_bayes(data_vec, label)\n",
    "    # 测试算法\n",
    "    test1 = ['love', 'my', 'dalmation']\n",
    "    test1_vec = setOfWords2Vec(vocab_list, test1)\n",
    "    test2 = ['stupid', 'garbage']\n",
    "    test2_vec = setOfWords2Vec(vocab_list, test2)\n",
    "    print('test1 classify as %d' %classify_bayes(test1_vec, p0_vec, p1_vec, p_absive))\n",
    "    print('test2 classify as %d' %classify_bayes(test2_vec, p0_vec, p1_vec, p_absive))"
   ]
  },
  {
   "cell_type": "code",
   "execution_count": 11,
   "metadata": {},
   "outputs": [
    {
     "name": "stdout",
     "output_type": "stream",
     "text": [
      "test1 classify as 0\n",
      "test2 classify as 1\n"
     ]
    }
   ],
   "source": [
    "test()"
   ]
  },
  {
   "cell_type": "markdown",
   "metadata": {},
   "source": [
    "## 示例：过滤垃圾邮件\n",
    "\n",
    "### Step 1：准备数据\n",
    "\n",
    "词袋模型（bags-of-words model）：指一个出现多次的单词可能不会表达某种信息，所以在词袋中每个词可以出现多次"
   ]
  },
  {
   "cell_type": "code",
   "execution_count": 12,
   "metadata": {},
   "outputs": [],
   "source": [
    "def bagOfWords2Vec(vocablist, inputset):\n",
    "    return_vec = [0] * len(vocablist)\n",
    "    for word in inputset:\n",
    "        if word in vocablist:\n",
    "            return_vec[vocablist.index(word)] += 1\n",
    "    return return_vec"
   ]
  },
  {
   "cell_type": "code",
   "execution_count": 13,
   "metadata": {},
   "outputs": [],
   "source": [
    "def text_parse(text):\n",
    "    import re\n",
    "    list = re.split(r'\\W+',text)\n",
    "    return [word .lower() for word in list if len(word) > 2]"
   ]
  },
  {
   "cell_type": "code",
   "execution_count": 14,
   "metadata": {},
   "outputs": [],
   "source": [
    "def load_data():\n",
    "    doc_list = []\n",
    "    label = []\n",
    "    full_text = []\n",
    "    for i in range(1, 26):\n",
    "        word_list = text_parse(open('email/spam/%d.txt' %i, 'r', encoding=\"ISO-8859-1\").read())\n",
    "        doc_list.append(word_list)\n",
    "        full_text.extend(word_list)\n",
    "        label.append(1)\n",
    "        word_list = text_parse(open('email/ham/%d.txt' %i, 'r', encoding=\"ISO-8859-1\").read())\n",
    "        doc_list.append(word_list)\n",
    "        full_text.extend(word_list)\n",
    "        label.append(0)\n",
    "    return doc_list, full_text, label"
   ]
  },
  {
   "cell_type": "code",
   "execution_count": 15,
   "metadata": {},
   "outputs": [],
   "source": [
    "dataset, full_set, label = load_data()"
   ]
  },
  {
   "cell_type": "code",
   "execution_count": 34,
   "metadata": {
    "scrolled": false
   },
   "outputs": [],
   "source": [
    "# 随机构建训练集\n",
    "train_set = range(50)\n",
    "testset = []\n",
    "for i in range(10):\n",
    "    rand_index = int(np.random.uniform(0, len(train_set)))\n",
    "    testset.append(train_set[rand_index])\n",
    "    del(list(train_set)[rand_index])\n",
    "vocab_list = create_vocablist(dataset)\n",
    "train_vec = []\n",
    "train_label = []\n",
    "for index in train_set:\n",
    "    train_vec.append(bagOfWords2Vec(vocab_list, dataset[index]))\n",
    "    train_label.append(label[index])"
   ]
  },
  {
   "cell_type": "markdown",
   "metadata": {},
   "source": [
    "### Step 2: 训练算法"
   ]
  },
  {
   "cell_type": "code",
   "execution_count": 35,
   "metadata": {},
   "outputs": [],
   "source": [
    "p0_v,p1_v,p_spam = train_bayes(np.array(train_vec), np.array(label))"
   ]
  },
  {
   "cell_type": "markdown",
   "metadata": {},
   "source": [
    "### Step 3:测试算法"
   ]
  },
  {
   "cell_type": "code",
   "execution_count": 39,
   "metadata": {},
   "outputs": [],
   "source": [
    "def test_email():\n",
    "    error = 0\n",
    "    for index in testset:\n",
    "        word_vec = setOfWords2Vec(vocab_list,dataset[index])\n",
    "        if classify_bayes(np.array(word_vec), p0_v, p1_v, p_spam) != label[index]:\n",
    "            error += 1\n",
    "            print(\"classification error\", dataset[index])\n",
    "    print('error rate is %f' %(float(error) / len(testset)))\n",
    "    return float(error) / len(testset)"
   ]
  },
  {
   "cell_type": "code",
   "execution_count": 40,
   "metadata": {
    "scrolled": true
   },
   "outputs": [
    {
     "name": "stdout",
     "output_type": "stream",
     "text": [
      "error rate is 0.000000\n",
      "error rate is 0.000000\n",
      "error rate is 0.000000\n",
      "error rate is 0.000000\n",
      "error rate is 0.000000\n",
      "error rate is 0.000000\n",
      "error rate is 0.000000\n",
      "error rate is 0.000000\n",
      "error rate is 0.000000\n",
      "error rate is 0.000000\n",
      "0.0\n"
     ]
    }
   ],
   "source": [
    "for i in range(10):\n",
    "    error += test_email()\n",
    "print(error/10.0)"
   ]
  },
  {
   "cell_type": "code",
   "execution_count": null,
   "metadata": {},
   "outputs": [],
   "source": []
  }
 ],
 "metadata": {
  "kernelspec": {
   "display_name": "Python 3",
   "language": "python",
   "name": "python3"
  },
  "language_info": {
   "codemirror_mode": {
    "name": "ipython",
    "version": 3
   },
   "file_extension": ".py",
   "mimetype": "text/x-python",
   "name": "python",
   "nbconvert_exporter": "python",
   "pygments_lexer": "ipython3",
   "version": "3.7.6"
  }
 },
 "nbformat": 4,
 "nbformat_minor": 4
}
