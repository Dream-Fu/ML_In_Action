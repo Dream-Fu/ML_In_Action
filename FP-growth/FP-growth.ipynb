{
 "cells": [
  {
   "cell_type": "markdown",
   "metadata": {},
   "source": [
    "# 使用FP-growth高效发现频繁项集\n",
    "\n",
    "FP（Frequent Pattern）频繁模式，一种存储项集出现次数的数据结构\n",
    "\n",
    "growth —— 生长，一种可以让树自增高的算法\n",
    "* Apriori算法产生候选项集，扫描数据集来检查他们是否频繁\n",
    "* FP-growth算法改进Apriori，将数据集存储在FP树中，通过查找元素项的条件基以及构建条件FP树来发现频繁项集。"
   ]
  },
  {
   "cell_type": "markdown",
   "metadata": {},
   "source": [
    "## 构建FP树的数据结构\n",
    "* FP树的结点定义"
   ]
  },
  {
   "cell_type": "code",
   "execution_count": 3,
   "metadata": {},
   "outputs": [],
   "source": [
    "class tree_node:\n",
    "    def __init__(self, name, num, parent):\n",
    "        self.name = name\n",
    "        self.num = num\n",
    "        self.node_link = None\n",
    "        self.parent = parent\n",
    "        self.child = {}"
   ]
  },
  {
   "cell_type": "markdown",
   "metadata": {},
   "source": [
    "* 节点数增加"
   ]
  },
  {
   "cell_type": "code",
   "execution_count": 1,
   "metadata": {},
   "outputs": [],
   "source": [
    "def inc(self, num):\n",
    "    self.num += num"
   ]
  },
  {
   "cell_type": "markdown",
   "metadata": {},
   "source": [
    "* 遍历节点"
   ]
  },
  {
   "cell_type": "code",
   "execution_count": 12,
   "metadata": {},
   "outputs": [],
   "source": [
    "def disp(self, ind=1):\n",
    "    print(' ' * ind,self.name, '\\t', self.num)\n",
    "    for child in self.child.values():\n",
    "        disp(child, ind + 1)"
   ]
  },
  {
   "cell_type": "code",
   "execution_count": 15,
   "metadata": {},
   "outputs": [],
   "source": [
    "root = tree_node('python', 8, None)\n",
    "child1 = tree_node('java', 1, root)\n",
    "root.child['java'] = child1\n",
    "child2 = tree_node('c++', 5, root)\n",
    "root.child['c++'] = child2"
   ]
  },
  {
   "cell_type": "code",
   "execution_count": 16,
   "metadata": {},
   "outputs": [
    {
     "name": "stdout",
     "output_type": "stream",
     "text": [
      "  python \t 8\n",
      "   java \t 1\n",
      "   c++ \t 5\n"
     ]
    }
   ],
   "source": [
    "disp(root)"
   ]
  },
  {
   "cell_type": "markdown",
   "metadata": {},
   "source": [
    "## 构建PF树\n",
    "\n",
    "* 对数据集进行两次遍历\n",
    "\n",
    "第一次遍历：\n",
    "\n",
    "    计算每个元素项的频率\n",
    "    去掉不满足最小支持度的项，排序\n",
    "第二次遍历：\n",
    "\n",
    "    自上而下遍历树节点\n",
    "    如果当前元素节点存在，则增加此节点的值\n",
    "    如果当前元素节点不存在，则添加一个分支节点"
   ]
  },
  {
   "cell_type": "markdown",
   "metadata": {},
   "source": [
    "生长函数，元素项存在则计数，不存在则生长"
   ]
  },
  {
   "cell_type": "code",
   "execution_count": null,
   "metadata": {},
   "outputs": [],
   "source": [
    "def update_tree(item, tree, header_table, count):\n",
    "    if item[0] in tree.child:\n",
    "        "
   ]
  }
 ],
 "metadata": {
  "kernelspec": {
   "display_name": "Python 3",
   "language": "python",
   "name": "python3"
  },
  "language_info": {
   "codemirror_mode": {
    "name": "ipython",
    "version": 3
   },
   "file_extension": ".py",
   "mimetype": "text/x-python",
   "name": "python",
   "nbconvert_exporter": "python",
   "pygments_lexer": "ipython3",
   "version": "3.7.6"
  }
 },
 "nbformat": 4,
 "nbformat_minor": 4
}
