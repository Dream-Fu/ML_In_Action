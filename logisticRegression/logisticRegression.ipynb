{
 "cells": [
  {
   "cell_type": "markdown",
   "metadata": {},
   "source": [
    "# 基于Logistic回归和Sigmoid函数的分类"
   ]
  },
  {
   "cell_type": "markdown",
   "metadata": {},
   "source": [
    "## 基于梯度上升法确定最佳回归系数\n",
    "\n",
    "梯度上升算法迭代公式：\n",
    "    $w = w + \\alpha\\bigtriangledown_{w}f(w)$\n",
    "\n",
    "其中 w 为我们要找到的最佳参数\n",
    "\n",
    "平方损失函数：\n",
    "    $f(w) = \\sum_{i=0}^n (y_{i} - w_{i}x_{i})^2$\n",
    "    \n",
    "求$\\min f(w)$：\n",
    "    $\\bigtriangledown f(w) = \\frac{\\partial f(w)} {\\partial w}= -2 \\sum_{i=0}^n (y_{i} - w_{i}x_{i})x_{i} $\n",
    "\n",
    "其中 $y_{i} - w_{i}x_{i}$为误差值\n",
    "\n",
    "我们使用Sigmoid函数进行分类，他的计算公式如下：\n",
    "    $\\sigma(z) = \\frac{1}{1 + e^{-z}}$\n",
    "    \n",
    "其中 $ z = \\sum_{i=0}^{n} w_{i}x_{i}$ 作为分类器的输入数据"
   ]
  },
  {
   "cell_type": "markdown",
   "metadata": {},
   "source": [
    "### 导入数据"
   ]
  },
  {
   "cell_type": "code",
   "execution_count": 1,
   "metadata": {},
   "outputs": [],
   "source": [
    "def load_data(filename):\n",
    "    datamat = []\n",
    "    labelmat = []\n",
    "    fr = open(filename)\n",
    "    for line in fr.readlines():\n",
    "        cur_line = line.strip().split()\n",
    "        datamat.append([1.0, float(cur_line[0]), float(cur_line[1])])\n",
    "        labelmat.append(int(cur_line[2]))\n",
    "    fr.close()\n",
    "    return datamat, labelmat"
   ]
  },
  {
   "cell_type": "code",
   "execution_count": 2,
   "metadata": {},
   "outputs": [],
   "source": [
    "dataset, label = load_data(r'testSet.txt')"
   ]
  },
  {
   "cell_type": "markdown",
   "metadata": {},
   "source": [
    "### sigmoid函数"
   ]
  },
  {
   "cell_type": "code",
   "execution_count": 3,
   "metadata": {},
   "outputs": [],
   "source": [
    "import numpy as np\n",
    "def sigmoid(inX):\n",
    "    return 1.0/(1 + np.exp(-inX))"
   ]
  },
  {
   "cell_type": "markdown",
   "metadata": {},
   "source": [
    "### 计算梯度"
   ]
  },
  {
   "cell_type": "code",
   "execution_count": 4,
   "metadata": {},
   "outputs": [],
   "source": [
    "def grad(datamat,label):\n",
    "    data_mat = np.mat(datamat)\n",
    "    label_mat = np.mat(label).transpose()\n",
    "    m, n = np.shape(data_mat)\n",
    "    alpha = 0.001\n",
    "    max_cycle = 500\n",
    "    weight = np.ones((n,1))\n",
    "    for i in range(max_cycle):\n",
    "        h = sigmoid(data_mat * weight)\n",
    "        error = label_mat - h\n",
    "        weight = weight + alpha * data_mat.transpose() * error\n",
    "    return weight.getA()"
   ]
  },
  {
   "cell_type": "code",
   "execution_count": 5,
   "metadata": {},
   "outputs": [
    {
     "name": "stdout",
     "output_type": "stream",
     "text": [
      "[[ 4.12414349]\n",
      " [ 0.48007329]\n",
      " [-0.6168482 ]]\n"
     ]
    }
   ],
   "source": [
    "weight = grad(dataset, label)\n",
    "print(weight)"
   ]
  },
  {
   "cell_type": "markdown",
   "metadata": {},
   "source": [
    "### 画出决策边界"
   ]
  },
  {
   "cell_type": "code",
   "execution_count": 6,
   "metadata": {},
   "outputs": [],
   "source": [
    "import matplotlib.pyplot as plt\n",
    "def plot_bestfit(weight):\n",
    "    data_arr = np.array(dataset)\n",
    "    m = np.shape(dataset)[0]\n",
    "    xcord1 = []\n",
    "    ycord1 = []\n",
    "    xcord2 = []\n",
    "    ycord2 = []\n",
    "    for i in range(m):\n",
    "        if int(label[i] == 1):\n",
    "            xcord1.append(data_arr[i, 1])\n",
    "            ycord1.append(data_arr[i, 2])\n",
    "        else:\n",
    "            xcord2.append(data_arr[i, 1])\n",
    "            ycord2.append(data_arr[i, 2])\n",
    "    fig = plt.figure()\n",
    "    ax = fig.add_subplot(111)\n",
    "    ax.scatter(xcord1, ycord1, s=30, c='red', marker='s')\n",
    "    ax.scatter(xcord2, ycord2, s=30, c='blue')\n",
    "    x = np.arange(-3.0, 3.0, 0.1)\n",
    "    y = (-weight[0]-weight[1]*x)/weight[2]\n",
    "    ax.plot(x, y)\n",
    "    plt.xlabel(\"X1\")\n",
    "    plt.ylabel(\"X2\")\n",
    "    plt.show()"
   ]
  },
  {
   "cell_type": "code",
   "execution_count": 7,
   "metadata": {},
   "outputs": [
    {
     "data": {
      "image/png": "[encoded data removed]",
      "text/plain": [
       "<Figure size 432x288 with 1 Axes>"
      ]
     },
     "metadata": {
      "needs_background": "light"
     },
     "output_type": "display_data"
    }
   ],
   "source": [
    "plot_bestfit(weight)"
   ]
  },
  {
   "cell_type": "markdown",
   "metadata": {},
   "source": [
    "## 梯度上升法的改进——随机梯度上升法\n",
    "* 梯度上升法每次更新回归系数时都需遍历整个数据集，我们改进此步骤，一次仅用一个样本点来更新回归系数"
   ]
  },
  {
   "cell_type": "code",
   "execution_count": 8,
   "metadata": {},
   "outputs": [],
   "source": [
    "def stoc_grad_1(data_mat, label_mat):\n",
    "    data_mat = np.array(data_mat)\n",
    "    m, n = np.shape(data_mat)\n",
    "    alpha = 0.01\n",
    "    weight = np.ones(n)\n",
    "    for i in range(m):\n",
    "        h = sigmoid(sum(data_mat[i] * weight))\n",
    "        error = label_mat[i] - h\n",
    "#         print(error)\n",
    "        weight = weight + alpha * error * data_mat[i]\n",
    "    return weight"
   ]
  },
  {
   "cell_type": "code",
   "execution_count": 9,
   "metadata": {},
   "outputs": [],
   "source": [
    "weight = stoc_grad_1(dataset, label)"
   ]
  },
  {
   "cell_type": "code",
   "execution_count": 10,
   "metadata": {},
   "outputs": [
    {
     "data": {
      "image/png": "[encoded data removed]",
      "text/plain": [
       "<Figure size 432x288 with 1 Axes>"
      ]
     },
     "metadata": {
      "needs_background": "light"
     },
     "output_type": "display_data"
    }
   ],
   "source": [
    "plot_bestfit(weight)"
   ]
  },
  {
   "cell_type": "markdown",
   "metadata": {},
   "source": [
    "#### 随机梯度上升算法是在整个数据集上迭代了500次得到的，系数的收敛性不好\n",
    "* 改进步长，alpha每次迭代时都需要调整"
   ]
  },
  {
   "cell_type": "code",
   "execution_count": 11,
   "metadata": {},
   "outputs": [],
   "source": [
    "def stoc_grad_2(data_mat, label_mat, num_iter=150):\n",
    "    data_mat = np.array(data_mat)\n",
    "    m, n = np.shape(data_mat)\n",
    "    weight = np.ones(n)\n",
    "    for j in range(num_iter):\n",
    "        data_index = list(range(m))\n",
    "        for i in range(m):\n",
    "            alpha = 4/(1.0 + j + i) + 0.01\n",
    "            rand_index = int(np.random.uniform(0, len(data_index)))\n",
    "            h = sigmoid(sum(data_mat[rand_index] * weight))\n",
    "            error = label_mat[rand_index] - h\n",
    "            weight = weight + alpha * error * data_mat[rand_index]\n",
    "            del(data_index[rand_index])\n",
    "    return weight"
   ]
  },
  {
   "cell_type": "code",
   "execution_count": 12,
   "metadata": {},
   "outputs": [],
   "source": [
    "weight = stoc_grad_2(dataset, label)"
   ]
  },
  {
   "cell_type": "code",
   "execution_count": 13,
   "metadata": {},
   "outputs": [
    {
     "data": {
      "image/png": "[encoded data removed]",
      "text/plain": [
       "<Figure size 432x288 with 1 Axes>"
      ]
     },
     "metadata": {
      "needs_background": "light"
     },
     "output_type": "display_data"
    }
   ],
   "source": [
    "plot_bestfit(weight)"
   ]
  },
  {
   "cell_type": "markdown",
   "metadata": {},
   "source": [
    "## 实例：从疝气病预测病马的死亡率\n",
    "### Step 1：处理数据集中的缺失值\n",
    "一般处理方式：\n",
    "* 可用特征均值填补\n",
    "* 特殊值填补\n",
    "* 忽略有缺失值的样本\n",
    "* 相似样本的均值填补\n",
    "* 算法预测缺失值\n",
    "\n",
    "本次使用特殊值0来替换缺失值，丢弃标签缺失的数据"
   ]
  },
  {
   "cell_type": "code",
   "execution_count": 14,
   "metadata": {},
   "outputs": [],
   "source": [
    "def classify(inX, weight):\n",
    "    prob = sigmoid(sum(inX * weight))\n",
    "    if prob > 0.5:\n",
    "        return 1.0\n",
    "    else:\n",
    "        return 0.0"
   ]
  },
  {
   "cell_type": "code",
   "execution_count": 15,
   "metadata": {},
   "outputs": [],
   "source": [
    "def colic_test():\n",
    "    fr_train = open('horseColicTraining.txt')\n",
    "    fr_test = open('horseColicTest.txt')\n",
    "    train_set = []\n",
    "    label_set = []\n",
    "    for line in fr_train.readlines():\n",
    "        curline = line.strip().split('\\t')\n",
    "        line_arr = []\n",
    "        for i in range(21):\n",
    "            line_arr.append(float(curline[i]))\n",
    "        train_set.append(line_arr)\n",
    "        label_set.append(float(curline[21]))\n",
    "    train_weigh = stoc_grad_2(train_set, label_set, 500)\n",
    "    error_count = 0\n",
    "    test_num = 0\n",
    "    for line in fr_test.readlines():\n",
    "        test_num += 1\n",
    "        curline = line.strip().split('\\t')\n",
    "        line_arr = []\n",
    "        for i in range(21):\n",
    "            line_arr.append(float(curline[i]))\n",
    "        if classify(line_arr, train_weigh) != float(curline[21]):\n",
    "            error_count += 1\n",
    "    error_rate = float(error_count)/test_num\n",
    "    print('错误率为%f' %error_rate)\n",
    "    return error_rate"
   ]
  },
  {
   "cell_type": "code",
   "execution_count": 16,
   "metadata": {},
   "outputs": [],
   "source": [
    "def multi_test():\n",
    "    test_num = 10\n",
    "    error_sum = 0.0\n",
    "    for k in range(10):\n",
    "        error_sum += colic_test()\n",
    "    print('进行%d次迭代后，平均错误率为%f' %(test_num, error_sum/float(test_num)))"
   ]
  },
  {
   "cell_type": "code",
   "execution_count": 17,
   "metadata": {},
   "outputs": [
    {
     "name": "stderr",
     "output_type": "stream",
     "text": [
      "D:\\Anaconda\\lib\\site-packages\\ipykernel_launcher.py:3: RuntimeWarning: overflow encountered in exp\n",
      "  This is separate from the ipykernel package so we can avoid doing imports until\n"
     ]
    },
    {
     "name": "stdout",
     "output_type": "stream",
     "text": [
      "错误率为0.343284\n",
      "错误率为0.343284\n",
      "错误率为0.313433\n",
      "错误率为0.298507\n",
      "错误率为0.358209\n",
      "错误率为0.283582\n",
      "错误率为0.388060\n",
      "错误率为0.298507\n",
      "错误率为0.432836\n",
      "错误率为0.358209\n",
      "进行10次迭代后，平均错误率为0.341791\n"
     ]
    }
   ],
   "source": [
    "multi_test()\n",
    "# colic_test()\n",
    "# fr_train = open('horseColicTraining.txt')\n",
    "# train_set = []\n",
    "# label_set = []\n",
    "# for line in fr_train.readlines():\n",
    "#         curline = line.strip().split('\\t')\n",
    "#         line_arr = []\n",
    "#         for i in range(21):\n",
    "#             line_arr.append(float(curline[i]))\n",
    "#         train_set.append(line_arr)\n",
    "#         label_set.append(float(curline[21]))\n",
    "# train_weigh = stoc_grad_2(train_set, label_set, 500)"
   ]
  },
  {
   "cell_type": "code",
   "execution_count": null,
   "metadata": {},
   "outputs": [],
   "source": []
  }
 ],
 "metadata": {
  "kernelspec": {
   "display_name": "Python 3",
   "language": "python",
   "name": "python3"
  },
  "language_info": {
   "codemirror_mode": {
    "name": "ipython",
    "version": 3
   },
   "file_extension": ".py",
   "mimetype": "text/x-python",
   "name": "python",
   "nbconvert_exporter": "python",
   "pygments_lexer": "ipython3",
   "version": "3.7.6"
  }
 },
 "nbformat": 4,
 "nbformat_minor": 4
}
