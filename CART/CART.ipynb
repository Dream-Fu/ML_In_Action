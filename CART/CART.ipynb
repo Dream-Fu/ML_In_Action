{
 "cells": [
  {
   "cell_type": "markdown",
   "metadata": {},
   "source": [
    "# 树回归\n",
    "简单的线性回归是一种构建全局模型的想法，面对非线性的数据将束手无策。\n",
    "我们将数据切分为多份易建模的数据，再进行回归。\n",
    "所以树回归 = 决策树 + 回归分析\n",
    "\n",
    "CART（Classification And Regression Tree）分类回归树，既用于分类，还用于回归。\n"
   ]
  },
  {
   "cell_type": "markdown",
   "metadata": {},
   "source": [
    "决策树算法\n",
    "* ID3 (Iterative Dichotomister,迭代二分法)，每次选取最佳的特征分隔，并按该特征的所有取值切分。所以无法区分连续型数据，只能转换为连续型。\n",
    "* 二元切分法 优化ID3算法，特征值小于给定值就走左子树，大于就走右子树，易于处理连续型数据。"
   ]
  },
  {
   "cell_type": "markdown",
   "metadata": {},
   "source": [
    "## 回归树的构建\n",
    "\n",
    "伪代码\n",
    "\n",
    "    找到最佳的特征分割：\n",
    "        如果该节点无法再分，则保存为叶节点返回\n",
    "        执行二元切分\n",
    "        左子树调用构造方法 \n",
    "        右子树调用构造方法\n",
    "## 特征值的选取\n",
    "\n",
    "伪代码\n",
    "\n",
    "    对每个特征\n",
    "        对每个特征值\n",
    "            将数据预分成两份\n",
    "            计算切分后的误差\n",
    "            如果此误差小于当前最小误差，则更新误差和切分记录\n",
    "    返回最佳切分特征和特征值"
   ]
  },
  {
   "cell_type": "code",
   "execution_count": 1,
   "metadata": {},
   "outputs": [],
   "source": [
    "import numpy as np\n",
    "def load_data(filename):\n",
    "    data_mat = []\n",
    "    fr = open(filename)\n",
    "    for line in fr.readlines():\n",
    "        cur_line = line.strip().split('\\t')\n",
    "        flt_line = list(map(float, cur_line))\n",
    "        data_mat.append(flt_line)\n",
    "    return data_mat"
   ]
  },
  {
   "cell_type": "code",
   "execution_count": 2,
   "metadata": {},
   "outputs": [],
   "source": [
    "mydata = np.mat(load_data('ex00.txt'))"
   ]
  },
  {
   "cell_type": "code",
   "execution_count": 3,
   "metadata": {},
   "outputs": [
    {
     "data": {
      "text/plain": [
       "matrix([[ 3.609800e-02,  1.550960e-01],\n",
       "        [ 9.933490e-01,  1.077553e+00],\n",
       "        [ 5.308970e-01,  8.934620e-01],\n",
       "        [ 7.123860e-01,  5.648580e-01],\n",
       "        [ 3.435540e-01, -3.717000e-01],\n",
       "        [ 9.801600e-02, -3.327600e-01],\n",
       "        [ 6.911150e-01,  8.343910e-01],\n",
       "        [ 9.135800e-02,  9.993500e-02],\n",
       "        [ 7.270980e-01,  1.000567e+00],\n",
       "        [ 9.519490e-01,  9.452550e-01],\n",
       "        [ 7.685960e-01,  7.602190e-01],\n",
       "        [ 5.413140e-01,  8.937480e-01],\n",
       "        [ 1.463660e-01,  3.428300e-02],\n",
       "        [ 6.731950e-01,  9.150770e-01],\n",
       "        [ 1.835100e-01,  1.848430e-01],\n",
       "        [ 3.395630e-01,  2.067830e-01],\n",
       "        [ 5.179210e-01,  1.493586e+00],\n",
       "        [ 7.037550e-01,  1.101678e+00],\n",
       "        [ 8.307000e-03,  6.997600e-02],\n",
       "        [ 2.439090e-01, -2.946700e-02],\n",
       "        [ 3.069640e-01, -1.773210e-01],\n",
       "        [ 3.649200e-02,  4.081550e-01],\n",
       "        [ 2.955110e-01,  2.882000e-03],\n",
       "        [ 8.375220e-01,  1.229373e+00],\n",
       "        [ 2.020540e-01, -8.774400e-02],\n",
       "        [ 9.193840e-01,  1.029889e+00],\n",
       "        [ 3.772010e-01, -2.435500e-01],\n",
       "        [ 8.148250e-01,  1.095206e+00],\n",
       "        [ 6.112700e-01,  9.820360e-01],\n",
       "        [ 7.224300e-02, -4.209830e-01],\n",
       "        [ 4.102300e-01,  3.317220e-01],\n",
       "        [ 8.690770e-01,  1.114825e+00],\n",
       "        [ 6.205990e-01,  1.334421e+00],\n",
       "        [ 1.011490e-01,  6.883400e-02],\n",
       "        [ 8.208020e-01,  1.325907e+00],\n",
       "        [ 5.200440e-01,  9.619830e-01],\n",
       "        [ 4.881300e-01, -9.779100e-02],\n",
       "        [ 8.198230e-01,  8.352640e-01],\n",
       "        [ 9.750220e-01,  6.735790e-01],\n",
       "        [ 9.531120e-01,  1.064690e+00],\n",
       "        [ 4.759760e-01, -1.637070e-01],\n",
       "        [ 2.731470e-01, -4.552190e-01],\n",
       "        [ 8.045860e-01,  9.240330e-01],\n",
       "        [ 7.479500e-02, -3.496920e-01],\n",
       "        [ 6.253360e-01,  6.236960e-01],\n",
       "        [ 6.562180e-01,  9.585060e-01],\n",
       "        [ 8.340780e-01,  1.010580e+00],\n",
       "        [ 7.819300e-01,  1.074488e+00],\n",
       "        [ 9.849000e-03,  5.659400e-02],\n",
       "        [ 3.022170e-01, -1.486500e-01],\n",
       "        [ 6.782870e-01,  9.077270e-01],\n",
       "        [ 1.805060e-01,  1.036760e-01],\n",
       "        [ 1.936410e-01, -3.275890e-01],\n",
       "        [ 3.434790e-01,  1.752640e-01],\n",
       "        [ 1.458090e-01,  1.369790e-01],\n",
       "        [ 9.967570e-01,  1.035533e+00],\n",
       "        [ 5.902100e-01,  1.336661e+00],\n",
       "        [ 2.380700e-01, -3.584590e-01],\n",
       "        [ 5.613620e-01,  1.070529e+00],\n",
       "        [ 3.775970e-01,  8.850500e-02],\n",
       "        [ 9.914200e-02,  2.528000e-02],\n",
       "        [ 5.395580e-01,  1.053846e+00],\n",
       "        [ 7.902400e-01,  5.332140e-01],\n",
       "        [ 2.422040e-01,  2.093590e-01],\n",
       "        [ 1.523240e-01,  1.328580e-01],\n",
       "        [ 2.526490e-01, -5.561300e-02],\n",
       "        [ 8.959300e-01,  1.077275e+00],\n",
       "        [ 1.333000e-01, -2.231430e-01],\n",
       "        [ 5.597630e-01,  1.253151e+00],\n",
       "        [ 6.436650e-01,  1.024241e+00],\n",
       "        [ 8.772410e-01,  7.970050e-01],\n",
       "        [ 6.137650e-01,  1.621091e+00],\n",
       "        [ 6.457620e-01,  1.026886e+00],\n",
       "        [ 6.513760e-01,  1.315384e+00],\n",
       "        [ 6.977180e-01,  1.212434e+00],\n",
       "        [ 7.425270e-01,  1.087056e+00],\n",
       "        [ 9.010560e-01,  1.055900e+00],\n",
       "        [ 3.623140e-01, -5.564640e-01],\n",
       "        [ 9.482680e-01,  6.318620e-01],\n",
       "        [ 2.340000e-04,  6.090300e-02],\n",
       "        [ 7.500780e-01,  9.062910e-01],\n",
       "        [ 3.254120e-01, -2.192450e-01],\n",
       "        [ 7.268280e-01,  1.017112e+00],\n",
       "        [ 3.480130e-01,  4.893900e-02],\n",
       "        [ 4.581210e-01, -6.145600e-02],\n",
       "        [ 2.807380e-01, -2.288800e-01],\n",
       "        [ 5.677040e-01,  9.690580e-01],\n",
       "        [ 7.509180e-01,  7.481040e-01],\n",
       "        [ 5.758050e-01,  8.990900e-01],\n",
       "        [ 5.079400e-01,  1.107265e+00],\n",
       "        [ 7.176900e-02, -1.109460e-01],\n",
       "        [ 5.535200e-01,  1.391273e+00],\n",
       "        [ 4.011520e-01, -1.216400e-01],\n",
       "        [ 4.066490e-01, -3.663170e-01],\n",
       "        [ 6.521210e-01,  1.004346e+00],\n",
       "        [ 3.478370e-01, -1.534050e-01],\n",
       "        [ 8.193100e-02, -2.697560e-01],\n",
       "        [ 8.216480e-01,  1.280895e+00],\n",
       "        [ 4.801400e-02,  6.449600e-02],\n",
       "        [ 1.309620e-01,  1.842410e-01],\n",
       "        [ 7.734220e-01,  1.125943e+00],\n",
       "        [ 7.896250e-01,  5.526140e-01],\n",
       "        [ 9.699400e-02,  2.271670e-01],\n",
       "        [ 6.257910e-01,  1.244731e+00],\n",
       "        [ 5.895750e-01,  1.185812e+00],\n",
       "        [ 3.231810e-01,  1.808110e-01],\n",
       "        [ 8.224430e-01,  1.086648e+00],\n",
       "        [ 3.603230e-01, -2.048300e-01],\n",
       "        [ 9.501530e-01,  1.022906e+00],\n",
       "        [ 5.275050e-01,  8.795600e-01],\n",
       "        [ 8.600490e-01,  7.174900e-01],\n",
       "        [ 7.044000e-03,  9.415000e-02],\n",
       "        [ 4.383670e-01,  3.401400e-02],\n",
       "        [ 5.745730e-01,  1.066130e+00],\n",
       "        [ 5.366890e-01,  8.672840e-01],\n",
       "        [ 7.821670e-01,  8.860490e-01],\n",
       "        [ 9.898880e-01,  7.442070e-01],\n",
       "        [ 7.614740e-01,  1.058262e+00],\n",
       "        [ 9.854250e-01,  1.227946e+00],\n",
       "        [ 1.325430e-01, -3.293720e-01],\n",
       "        [ 3.469860e-01, -1.503890e-01],\n",
       "        [ 7.687840e-01,  8.997050e-01],\n",
       "        [ 8.489210e-01,  1.170959e+00],\n",
       "        [ 4.492800e-01,  6.909800e-02],\n",
       "        [ 6.617200e-02,  5.243900e-02],\n",
       "        [ 8.137190e-01,  7.066010e-01],\n",
       "        [ 6.619230e-01,  7.670400e-01],\n",
       "        [ 5.294910e-01,  1.022206e+00],\n",
       "        [ 8.464550e-01,  7.200300e-01],\n",
       "        [ 4.486560e-01,  2.697400e-02],\n",
       "        [ 7.950720e-01,  9.657210e-01],\n",
       "        [ 1.181560e-01, -7.740900e-02],\n",
       "        [ 8.424800e-02, -1.954700e-02],\n",
       "        [ 8.458150e-01,  9.526170e-01],\n",
       "        [ 5.769460e-01,  1.234129e+00],\n",
       "        [ 7.720830e-01,  1.299018e+00],\n",
       "        [ 6.966480e-01,  8.454230e-01],\n",
       "        [ 5.950120e-01,  1.213435e+00],\n",
       "        [ 6.486750e-01,  1.287407e+00],\n",
       "        [ 8.970940e-01,  1.240209e+00],\n",
       "        [ 5.529900e-01,  1.036158e+00],\n",
       "        [ 3.329820e-01,  2.100840e-01],\n",
       "        [ 6.561500e-02, -3.069700e-01],\n",
       "        [ 2.786610e-01,  2.536280e-01],\n",
       "        [ 7.731680e-01,  1.140917e+00],\n",
       "        [ 2.036930e-01, -6.403600e-02],\n",
       "        [ 3.556880e-01, -1.193990e-01],\n",
       "        [ 9.888520e-01,  1.069062e+00],\n",
       "        [ 5.187350e-01,  1.037179e+00],\n",
       "        [ 5.145630e-01,  1.156648e+00],\n",
       "        [ 9.764140e-01,  8.629110e-01],\n",
       "        [ 9.190740e-01,  1.123413e+00],\n",
       "        [ 6.977770e-01,  8.278050e-01],\n",
       "        [ 9.280970e-01,  8.832250e-01],\n",
       "        [ 9.002720e-01,  9.968710e-01],\n",
       "        [ 3.441020e-01, -6.153900e-02],\n",
       "        [ 1.480490e-01,  2.042980e-01],\n",
       "        [ 1.300520e-01, -2.616700e-02],\n",
       "        [ 3.020010e-01,  3.171350e-01],\n",
       "        [ 3.371000e-01,  2.633200e-02],\n",
       "        [ 3.149240e-01, -1.952000e-03],\n",
       "        [ 2.696810e-01, -1.659710e-01],\n",
       "        [ 1.960050e-01, -4.884700e-02],\n",
       "        [ 1.290610e-01,  3.051070e-01],\n",
       "        [ 9.367830e-01,  1.026258e+00],\n",
       "        [ 3.055400e-01, -1.159910e-01],\n",
       "        [ 6.839210e-01,  1.414382e+00],\n",
       "        [ 6.223980e-01,  7.663300e-01],\n",
       "        [ 9.025320e-01,  8.616010e-01],\n",
       "        [ 7.125030e-01,  9.334900e-01],\n",
       "        [ 5.900620e-01,  7.055310e-01],\n",
       "        [ 7.231200e-01,  1.307248e+00],\n",
       "        [ 1.882180e-01,  1.136850e-01],\n",
       "        [ 6.436010e-01,  7.825520e-01],\n",
       "        [ 5.202070e-01,  1.209557e+00],\n",
       "        [ 2.331150e-01, -3.481470e-01],\n",
       "        [ 4.656250e-01, -1.529400e-01],\n",
       "        [ 8.845120e-01,  1.117833e+00],\n",
       "        [ 6.632000e-01,  7.016340e-01],\n",
       "        [ 2.688570e-01,  7.344700e-02],\n",
       "        [ 7.292340e-01,  9.319560e-01],\n",
       "        [ 4.296640e-01, -1.886590e-01],\n",
       "        [ 7.371890e-01,  1.200781e+00],\n",
       "        [ 3.785950e-01, -2.960940e-01],\n",
       "        [ 9.301730e-01,  1.035645e+00],\n",
       "        [ 7.743010e-01,  8.367630e-01],\n",
       "        [ 2.739400e-01, -8.571300e-02],\n",
       "        [ 8.244420e-01,  1.082153e+00],\n",
       "        [ 6.260110e-01,  8.405440e-01],\n",
       "        [ 6.793900e-01,  1.307217e+00],\n",
       "        [ 5.782520e-01,  9.218850e-01],\n",
       "        [ 7.855410e-01,  1.165296e+00],\n",
       "        [ 5.974090e-01,  9.747700e-01],\n",
       "        [ 1.408300e-02, -1.325250e-01],\n",
       "        [ 6.638700e-01,  1.187129e+00],\n",
       "        [ 5.523810e-01,  1.369630e+00],\n",
       "        [ 6.838860e-01,  9.999850e-01],\n",
       "        [ 2.103340e-01, -6.899000e-03],\n",
       "        [ 6.045290e-01,  1.212685e+00],\n",
       "        [ 2.507440e-01,  4.629700e-02]])"
      ]
     },
     "execution_count": 3,
     "metadata": {},
     "output_type": "execute_result"
    }
   ],
   "source": [
    "mydata"
   ]
  },
  {
   "cell_type": "code",
   "execution_count": 4,
   "metadata": {},
   "outputs": [
    {
     "data": {
      "text/plain": [
       "<matplotlib.collections.PathCollection at 0x1a4b5926388>"
      ]
     },
     "execution_count": 4,
     "metadata": {},
     "output_type": "execute_result"
    },
    {
     "data": {
      "image/png": "[encoded data removed]",
      "text/plain": [
       "<Figure size 432x288 with 1 Axes>"
      ]
     },
     "metadata": {
      "needs_background": "light"
     },
     "output_type": "display_data"
    }
   ],
   "source": [
    "import matplotlib.pyplot as plt\n",
    "fig = plt.figure()\n",
    "ax = fig.add_subplot(111)\n",
    "ax.scatter(mydata[:, 0].T.A[0], mydata[:, 1].T.A[0])"
   ]
  },
  {
   "cell_type": "code",
   "execution_count": 5,
   "metadata": {},
   "outputs": [],
   "source": [
    "def bin_split(dataset, feature, value):\n",
    "    mat0 = dataset[np.nonzero(dataset[:,feature] > value)[0],:]\n",
    "    mat1 = dataset[np.nonzero(dataset[:,feature] <= value)[0],:]\n",
    "    return mat0,mat1\n",
    "\n",
    "def reg_leaf(dataset):#returns the value used for each leaf\n",
    "    return np.mean(dataset[:,-1])\n",
    "\n",
    "def reg_err(dataset):\n",
    "    return np.var(dataset[:,-1]) * np.shape(dataset)[0]\n",
    "\n",
    "def choose_best_split(dataset, leaf_type=reg_leaf, err_type=reg_err, ops=(1,4)):\n",
    "    tol_s = ops[0]; tol_n = ops[1]\n",
    "    if len(set(dataset[:,-1].T.tolist()[0])) == 1: \n",
    "        return None, leaf_type(dataset)\n",
    "    m,n = np.shape(dataset)\n",
    "    s = err_type(dataset)\n",
    "    best_s = np.inf; best_index = 0; best_value = 0\n",
    "    for feat_index in range(n-1):\n",
    "        for split_val in set(dataset[:,feat_index].T.tolist()[0]):\n",
    "            mat0, mat1 = bin_split(dataset, feat_index, split_val)\n",
    "            if (np.shape(mat0)[0] < tol_n) or (np.shape(mat1)[0] < tol_n): continue\n",
    "            new_s = err_type(mat0) + err_type(mat1)\n",
    "            if new_s < best_s: \n",
    "                best_index = feat_index\n",
    "                best_value = split_val\n",
    "                best_s = new_s\n",
    "    if (s - best_s) < tol_s: \n",
    "        return None, leaf_type(dataset)\n",
    "    mat0, mat1 = bin_split(dataset, best_index, best_value)\n",
    "    if (np.shape(mat0)[0] < tol_n) or (np.shape(mat1)[0] < tol_n):  \n",
    "        return None, leaf_type(dataset)\n",
    "    return best_index,best_value\n",
    "\n",
    "def create_tree(dataset, leaf_type=reg_leaf, err_type=reg_err, ops=(1,4)):\n",
    "    feat, val = choose_best_split(dataset, leaf_type, err_type, ops)\n",
    "    if feat == None: return val \n",
    "    ret_tree = {}\n",
    "    ret_tree['index'] = feat\n",
    "    ret_tree['value'] = val\n",
    "    lset, rset = bin_split(dataset, feat, val)\n",
    "    ret_tree['left'] = create_tree(lset, leaf_type, err_type, ops)\n",
    "    ret_tree['right'] = create_tree(rset, leaf_type, err_type, ops)\n",
    "    return ret_tree  "
   ]
  },
  {
   "cell_type": "code",
   "execution_count": 6,
   "metadata": {},
   "outputs": [
    {
     "data": {
      "text/plain": [
       "{'index': 0,\n",
       " 'value': 0.48813,\n",
       " 'left': 1.0180967672413792,\n",
       " 'right': -0.04465028571428572}"
      ]
     },
     "execution_count": 6,
     "metadata": {},
     "output_type": "execute_result"
    }
   ],
   "source": [
    "create_tree(mydata)"
   ]
  },
  {
   "cell_type": "code",
   "execution_count": 7,
   "metadata": {},
   "outputs": [
    {
     "data": {
      "text/plain": [
       "<matplotlib.collections.PathCollection at 0x1a4b6728108>"
      ]
     },
     "execution_count": 7,
     "metadata": {},
     "output_type": "execute_result"
    },
    {
     "data": {
      "image/png": "[encoded data removed]",
      "text/plain": [
       "<Figure size 432x288 with 1 Axes>"
      ]
     },
     "metadata": {
      "needs_background": "light"
     },
     "output_type": "display_data"
    }
   ],
   "source": [
    "mydata = np.mat(load_data('ex0.txt'))\n",
    "fig = plt.figure()\n",
    "ax = fig.add_subplot(111)\n",
    "ax.scatter(mydata[:, 1].T.A[0], mydata[:, 2].T.A[0])"
   ]
  },
  {
   "cell_type": "code",
   "execution_count": 8,
   "metadata": {},
   "outputs": [
    {
     "data": {
      "text/plain": [
       "{'index': 1,\n",
       " 'value': 0.39435,\n",
       " 'left': {'index': 1,\n",
       "  'value': 0.582002,\n",
       "  'left': {'index': 1,\n",
       "   'value': 0.797583,\n",
       "   'left': 3.9871632,\n",
       "   'right': 2.9836209534883724},\n",
       "  'right': 1.980035071428571},\n",
       " 'right': {'index': 1,\n",
       "  'value': 0.197834,\n",
       "  'left': 1.0289583666666666,\n",
       "  'right': -0.023838155555555553}}"
      ]
     },
     "execution_count": 8,
     "metadata": {},
     "output_type": "execute_result"
    }
   ],
   "source": [
    "create_tree(mydata)"
   ]
  },
  {
   "cell_type": "markdown",
   "metadata": {},
   "source": [
    "## 树剪枝\n",
    "后剪枝伪代码：\n",
    "\n",
    "    基于已有的树：\n",
    "        如果子集是子树，则递归剪枝\n",
    "        计算两个叶子节点合并后的误差\n",
    "        计算不合并的误差\n",
    "        如果合并降低误差，则更新"
   ]
  },
  {
   "cell_type": "code",
   "execution_count": 9,
   "metadata": {},
   "outputs": [],
   "source": [
    "def is_tree(obj):\n",
    "    return isinstance(obj, dict)\n",
    "\n",
    "def get_mean(tree):\n",
    "    if is_tree(tree['right']):\n",
    "        tree['right'] = get_mean(tree['right'])\n",
    "    if is_tree(tree['left']):\n",
    "        tree['left'] = get_mean(tree['left'])\n",
    "    return (tree['left'] + tree['right']) / 2.0\n",
    "\n",
    "def prune(tree, testdata):\n",
    "    if np.shape(testdata)[0] == 0:\n",
    "        return get_mean(tree)\n",
    "    if (is_tree(tree['right'])) or (is_tree(tree['left'])):\n",
    "        lset, rset = bin_split(testdata, tree['index'], tree['value'])\n",
    "    if is_tree(tree['left']):\n",
    "        tree['left'] = prune(tree['left'], lset)\n",
    "    if is_tree(tree['right']):\n",
    "        tree['right'] = prune(tree['right'], rset)\n",
    "    if not is_tree(tree['left']) and not is_tree(tree['right']):\n",
    "        lset, rset = bin_split(testdata, tree['index'], tree['value'])\n",
    "        err_no_merge = sum(np.power(lset[:, -1] - tree['left'], 2)) + sum(np.power(rset[:, -1] - tree['right'], 2))\n",
    "        tree_mean = (tree['left'] + tree['right']) / 2.0\n",
    "        err_merge = sum(np.power(testdata[:, -1] - tree_mean, 2))\n",
    "        if err_merge < err_no_merge:\n",
    "            print('merging')\n",
    "            return tree_mean\n",
    "        else:\n",
    "            return tree\n",
    "    else:\n",
    "        return tree\n",
    "    \n",
    "def prune(tree, testData):\n",
    "    if np.shape(testData)[0] == 0: return get_mean(tree) #if we have no test data collapse the tree\n",
    "    if (is_tree(tree['right']) or is_tree(tree['left'])):#if the branches are not trees try to prune them\n",
    "        lSet, rSet = bin_split(testData, tree['index'], tree['value'])\n",
    "    if is_tree(tree['left']): tree['left'] = prune(tree['left'], lSet)\n",
    "    if is_tree(tree['right']): tree['right'] =  prune(tree['right'], rSet)\n",
    "    #if they are now both leafs, see if we can merge them\n",
    "    if not is_tree(tree['left']) and not is_tree(tree['right']):\n",
    "        lSet, rSet = bin_split(testData, tree['index'], tree['value'])\n",
    "        errorNoMerge = sum(np.power(lSet[:,-1] - tree['left'],2)) +\\\n",
    "            sum(np.power(rSet[:,-1] - tree['right'],2))\n",
    "        treeMean = (tree['left']+tree['right'])/2.0\n",
    "        errorMerge = sum(np.power(testData[:,-1] - treeMean,2))\n",
    "        if errorMerge < errorNoMerge: \n",
    "            print(\"merging\")\n",
    "            return treeMean\n",
    "        else: return tree\n",
    "    else: return tree"
   ]
  },
  {
   "cell_type": "code",
   "execution_count": 10,
   "metadata": {},
   "outputs": [
    {
     "name": "stdout",
     "output_type": "stream",
     "text": [
      "merging\n",
      "merging\n",
      "merging\n",
      "merging\n",
      "merging\n",
      "merging\n",
      "merging\n",
      "merging\n",
      "merging\n",
      "merging\n",
      "merging\n",
      "merging\n",
      "merging\n",
      "merging\n",
      "merging\n",
      "merging\n",
      "merging\n",
      "merging\n",
      "merging\n",
      "merging\n",
      "merging\n",
      "merging\n",
      "merging\n",
      "merging\n",
      "merging\n",
      "merging\n",
      "merging\n",
      "merging\n",
      "merging\n",
      "merging\n",
      "merging\n",
      "merging\n",
      "merging\n",
      "merging\n",
      "merging\n",
      "merging\n",
      "merging\n",
      "merging\n",
      "merging\n",
      "merging\n",
      "merging\n",
      "merging\n",
      "merging\n",
      "merging\n",
      "merging\n",
      "merging\n",
      "merging\n",
      "merging\n",
      "merging\n",
      "merging\n",
      "merging\n",
      "merging\n",
      "merging\n",
      "merging\n"
     ]
    },
    {
     "data": {
      "text/plain": [
       "{'index': 0,\n",
       " 'value': 0.48813,\n",
       " 'left': {'index': 0,\n",
       "  'value': 0.620599,\n",
       "  'left': {'index': 0,\n",
       "   'value': 0.625336,\n",
       "   'left': {'index': 0,\n",
       "    'value': 0.625791,\n",
       "    'left': {'index': 0,\n",
       "     'value': 0.643601,\n",
       "     'left': {'index': 0,\n",
       "      'value': 0.651376,\n",
       "      'left': {'index': 0,\n",
       "       'value': 0.6632,\n",
       "       'left': {'index': 0,\n",
       "        'value': 0.683921,\n",
       "        'left': {'index': 0,\n",
       "         'value': 0.819823,\n",
       "         'left': {'index': 0,\n",
       "          'value': 0.837522,\n",
       "          'left': {'index': 0,\n",
       "           'value': 0.846455,\n",
       "           'left': {'index': 0,\n",
       "            'value': 0.919384,\n",
       "            'left': {'index': 0,\n",
       "             'value': 0.976414,\n",
       "             'left': {'index': 0,\n",
       "              'value': 0.985425,\n",
       "              'left': {'index': 0,\n",
       "               'value': 0.989888,\n",
       "               'left': 1.056543,\n",
       "               'right': {'index': 0,\n",
       "                'value': 0.988852,\n",
       "                'left': 0.744207,\n",
       "                'right': 1.069062}},\n",
       "              'right': 1.227946},\n",
       "             'right': {'index': 0,\n",
       "              'value': 0.953112,\n",
       "              'left': 0.7682450000000001,\n",
       "              'right': {'index': 0,\n",
       "               'value': 0.948268,\n",
       "               'left': {'index': 0,\n",
       "                'value': 0.951949,\n",
       "                'left': 1.06469,\n",
       "                'right': {'index': 0,\n",
       "                 'value': 0.950153,\n",
       "                 'left': 0.945255,\n",
       "                 'right': 1.022906}},\n",
       "               'right': 0.794475125}}},\n",
       "            'right': {'index': 0,\n",
       "             'value': 0.877241,\n",
       "             'left': {'index': 0,\n",
       "              'value': 0.897094,\n",
       "              'left': {'index': 0,\n",
       "               'value': 0.902532,\n",
       "               'left': {'index': 0,\n",
       "                'value': 0.919074,\n",
       "                'left': 1.029889,\n",
       "                'right': 1.123413},\n",
       "               'right': 0.9439932499999999},\n",
       "              'right': 1.1688815},\n",
       "             'right': {'index': 0,\n",
       "              'value': 0.848921,\n",
       "              'left': {'index': 0,\n",
       "               'value': 0.860049,\n",
       "               'left': 0.955915,\n",
       "               'right': 0.71749},\n",
       "              'right': 1.170959}}},\n",
       "           'right': {'index': 0,\n",
       "            'value': 0.845815,\n",
       "            'left': 0.72003,\n",
       "            'right': 0.952617}},\n",
       "          'right': 1.2209163125},\n",
       "         'right': {'index': 0,\n",
       "          'value': 0.785541,\n",
       "          'left': {'index': 0,\n",
       "           'value': 0.79024,\n",
       "           'left': 0.8954869999999999,\n",
       "           'right': 0.542914},\n",
       "          'right': {'index': 0,\n",
       "           'value': 0.712503,\n",
       "           'left': {'index': 0,\n",
       "            'value': 0.72312,\n",
       "            'left': {'index': 0,\n",
       "             'value': 0.768784,\n",
       "             'left': {'index': 0,\n",
       "              'value': 0.773422,\n",
       "              'left': {'index': 0,\n",
       "               'value': 0.782167,\n",
       "               'left': 1.165296,\n",
       "               'right': {'index': 0,\n",
       "                'value': 0.774301,\n",
       "                'left': {'index': 0,\n",
       "                 'value': 0.78193,\n",
       "                 'left': 0.886049,\n",
       "                 'right': 1.074488},\n",
       "                'right': 0.836763}},\n",
       "              'right': 1.216224},\n",
       "             'right': {'index': 0,\n",
       "              'value': 0.742527,\n",
       "              'left': {'index': 0,\n",
       "               'value': 0.750918,\n",
       "               'left': {'index': 0,\n",
       "                'value': 0.761474,\n",
       "                'left': 0.829962,\n",
       "                'right': 1.058262},\n",
       "               'right': {'index': 0,\n",
       "                'value': 0.750078,\n",
       "                'left': 0.748104,\n",
       "                'right': 0.906291}},\n",
       "              'right': {'index': 0,\n",
       "               'value': 0.729234,\n",
       "               'left': 1.1439185,\n",
       "               'right': 0.9703977500000001}}},\n",
       "            'right': 1.307248},\n",
       "           'right': {'index': 0,\n",
       "            'value': 0.703755,\n",
       "            'left': 0.749174,\n",
       "            'right': {'index': 0,\n",
       "             'value': 0.696648,\n",
       "             'left': {'index': 0,\n",
       "              'value': 0.697718,\n",
       "              'left': {'index': 0,\n",
       "               'value': 0.697777,\n",
       "               'left': 1.101678,\n",
       "               'right': 0.827805},\n",
       "              'right': 1.212434},\n",
       "             'right': 0.839907}}}}},\n",
       "        'right': {'index': 0,\n",
       "         'value': 0.683886,\n",
       "         'left': 1.414382,\n",
       "         'right': {'index': 0,\n",
       "          'value': 0.678287,\n",
       "          'left': 1.153601,\n",
       "          'right': {'index': 0,\n",
       "           'value': 0.66387,\n",
       "           'left': {'index': 0,\n",
       "            'value': 0.673195,\n",
       "            'left': 0.907727,\n",
       "            'right': 0.915077},\n",
       "           'right': 1.187129}}}},\n",
       "       'right': {'index': 0,\n",
       "        'value': 0.656218,\n",
       "        'left': {'index': 0,\n",
       "         'value': 0.661923,\n",
       "         'left': 0.701634,\n",
       "         'right': 0.76704},\n",
       "        'right': 0.9814259999999999}},\n",
       "      'right': {'index': 0,\n",
       "       'value': 0.645762,\n",
       "       'left': {'index': 0,\n",
       "        'value': 0.648675,\n",
       "        'left': 1.315384,\n",
       "        'right': 1.287407},\n",
       "       'right': {'index': 0,\n",
       "        'value': 0.643665,\n",
       "        'left': 1.026886,\n",
       "        'right': 1.024241}}},\n",
       "     'right': 0.8115479999999999},\n",
       "    'right': 1.244731},\n",
       "   'right': {'index': 0,\n",
       "    'value': 0.622398,\n",
       "    'left': 0.623696,\n",
       "    'right': 0.76633}},\n",
       "  'right': {'index': 0,\n",
       "   'value': 0.61127,\n",
       "   'left': 1.477756,\n",
       "   'right': {'index': 0,\n",
       "    'value': 0.517921,\n",
       "    'left': {'index': 0,\n",
       "     'value': 0.541314,\n",
       "     'left': {'index': 0,\n",
       "      'value': 0.559763,\n",
       "      'left': {'index': 0,\n",
       "       'value': 0.590062,\n",
       "       'left': {'index': 0,\n",
       "        'value': 0.595012,\n",
       "        'left': 1.03606525,\n",
       "        'right': 1.275048},\n",
       "       'right': {'index': 0,\n",
       "        'value': 0.589575,\n",
       "        'left': 0.705531,\n",
       "        'right': {'index': 0,\n",
       "         'value': 0.575805,\n",
       "         'left': {'index': 0,\n",
       "          'value': 0.576946,\n",
       "          'left': {'index': 0,\n",
       "           'value': 0.578252,\n",
       "           'left': 1.185812,\n",
       "           'right': 0.921885},\n",
       "          'right': 1.234129},\n",
       "         'right': {'index': 0,\n",
       "          'value': 0.574573,\n",
       "          'left': 0.89909,\n",
       "          'right': {'index': 0,\n",
       "           'value': 0.561362,\n",
       "           'left': 1.0175939999999999,\n",
       "           'right': 1.070529}}}}},\n",
       "      'right': {'index': 0,\n",
       "       'value': 0.552381,\n",
       "       'left': {'index': 0,\n",
       "        'value': 0.55299,\n",
       "        'left': 1.322212,\n",
       "        'right': 1.036158},\n",
       "       'right': 1.36963}},\n",
       "     'right': {'index': 0,\n",
       "      'value': 0.520207,\n",
       "      'left': {'index': 0,\n",
       "       'value': 0.536689,\n",
       "       'left': {'index': 0,\n",
       "        'value': 0.539558,\n",
       "        'left': 0.893748,\n",
       "        'right': 1.053846},\n",
       "       'right': {'index': 0,\n",
       "        'value': 0.529491,\n",
       "        'left': {'index': 0,\n",
       "         'value': 0.530897,\n",
       "         'left': 0.867284,\n",
       "         'right': 0.893462},\n",
       "        'right': 0.9508829999999999}},\n",
       "      'right': 1.1045690000000001}},\n",
       "    'right': 1.31277125}}},\n",
       " 'right': {'index': 0,\n",
       "  'value': 0.343479,\n",
       "  'left': {'index': 0,\n",
       "   'value': 0.406649,\n",
       "   'left': {'index': 0,\n",
       "    'value': 0.41023,\n",
       "    'left': {'index': 0,\n",
       "     'value': 0.458121,\n",
       "     'left': {'index': 0,\n",
       "      'value': 0.475976,\n",
       "      'left': -0.097791,\n",
       "      'right': -0.1583235},\n",
       "     'right': {'index': 0,\n",
       "      'value': 0.429664,\n",
       "      'left': {'index': 0,\n",
       "       'value': 0.44928,\n",
       "       'left': -0.061456,\n",
       "       'right': {'index': 0,\n",
       "        'value': 0.448656,\n",
       "        'left': 0.069098,\n",
       "        'right': {'index': 0,\n",
       "         'value': 0.438367,\n",
       "         'left': 0.026974,\n",
       "         'right': 0.034014}}},\n",
       "      'right': -0.188659}},\n",
       "    'right': 0.331722},\n",
       "   'right': {'index': 0,\n",
       "    'value': 0.355688,\n",
       "    'left': {'index': 0,\n",
       "     'value': 0.362314,\n",
       "     'left': {'index': 0,\n",
       "      'value': 0.377597,\n",
       "      'left': -0.287592,\n",
       "      'right': {'index': 0,\n",
       "       'value': 0.377201,\n",
       "       'left': 0.088505,\n",
       "       'right': -0.24355}},\n",
       "     'right': -0.38064699999999996},\n",
       "    'right': {'index': 0,\n",
       "     'value': 0.343554,\n",
       "     'left': {'index': 0,\n",
       "      'value': 0.347837,\n",
       "      'left': {'index': 0,\n",
       "       'value': 0.348013,\n",
       "       'left': -0.119399,\n",
       "       'right': 0.048939},\n",
       "      'right': -0.10671800000000001},\n",
       "     'right': -0.3717}}},\n",
       "  'right': {'index': 0,\n",
       "   'value': 0.325412,\n",
       "   'left': 0.15461575,\n",
       "   'right': {'index': 0,\n",
       "    'value': 0.048014,\n",
       "    'left': {'index': 0,\n",
       "     'value': 0.081931,\n",
       "     'left': {'index': 0,\n",
       "      'value': 0.188218,\n",
       "      'left': {'index': 0,\n",
       "       'value': 0.23807,\n",
       "       'left': {'index': 0,\n",
       "        'value': 0.242204,\n",
       "        'left': {'index': 0,\n",
       "         'value': 0.323181,\n",
       "         'left': -0.219245,\n",
       "         'right': {'index': 0,\n",
       "          'value': 0.314924,\n",
       "          'left': 0.180811,\n",
       "          'right': {'index': 0,\n",
       "           'value': 0.27394,\n",
       "           'left': {'index': 0,\n",
       "            'value': 0.278661,\n",
       "            'left': {'index': 0,\n",
       "             'value': 0.280738,\n",
       "             'left': {'index': 0,\n",
       "              'value': 0.302001,\n",
       "              'left': {'index': 0,\n",
       "               'value': 0.306964,\n",
       "               'left': -0.001952,\n",
       "               'right': -0.15482075},\n",
       "              'right': 0.1600085},\n",
       "             'right': -0.22888},\n",
       "            'right': 0.253628},\n",
       "           'right': -0.086615}}},\n",
       "        'right': 0.209359},\n",
       "       'right': {'index': 0,\n",
       "        'value': 0.210334,\n",
       "        'left': -0.35330300000000003,\n",
       "        'right': {'index': 0,\n",
       "         'value': 0.193641,\n",
       "         'left': -0.03463375,\n",
       "         'right': -0.327589}}},\n",
       "      'right': {'index': 0,\n",
       "       'value': 0.1333,\n",
       "       'left': {'index': 0,\n",
       "        'value': 0.146366,\n",
       "        'left': {'index': 0,\n",
       "         'value': 0.148049,\n",
       "         'left': {'index': 0,\n",
       "          'value': 0.180506,\n",
       "          'left': {'index': 0,\n",
       "           'value': 0.18351,\n",
       "           'left': 0.113685,\n",
       "           'right': 0.184843},\n",
       "          'right': 0.11826700000000001},\n",
       "         'right': 0.204298},\n",
       "        'right': {'index': 0,\n",
       "         'value': 0.145809,\n",
       "         'left': 0.034283,\n",
       "         'right': 0.136979}},\n",
       "       'right': {'index': 0,\n",
       "        'value': 0.130962,\n",
       "        'left': -0.2762575,\n",
       "        'right': {'index': 0,\n",
       "         'value': 0.118156,\n",
       "         'left': {'index': 0,\n",
       "          'value': 0.129061,\n",
       "          'left': 0.079037,\n",
       "          'right': 0.305107},\n",
       "         'right': {'index': 0,\n",
       "          'value': 0.096994,\n",
       "          'left': {'index': 0,\n",
       "           'value': 0.098016,\n",
       "           'left': {'index': 0,\n",
       "            'value': 0.101149,\n",
       "            'left': -0.077409,\n",
       "            'right': 0.047057},\n",
       "           'right': -0.33276},\n",
       "          'right': {'index': 0,\n",
       "           'value': 0.091358,\n",
       "           'left': 0.227167,\n",
       "           'right': 0.040194}}}}}},\n",
       "     'right': {'index': 0,\n",
       "      'value': 0.071769,\n",
       "      'left': {'index': 0,\n",
       "       'value': 0.074795,\n",
       "       'left': -0.269756,\n",
       "       'right': -0.3853375},\n",
       "      'right': {'index': 0,\n",
       "       'value': 0.065615,\n",
       "       'left': -0.0292535,\n",
       "       'right': -0.30697}}},\n",
       "    'right': {'index': 0,\n",
       "     'value': 0.014083,\n",
       "     'left': {'index': 0,\n",
       "      'value': 0.036492,\n",
       "      'left': 0.064496,\n",
       "      'right': 0.2816255},\n",
       "     'right': {'index': 0,\n",
       "      'value': 0.009849,\n",
       "      'left': -0.132525,\n",
       "      'right': {'index': 0,\n",
       "       'value': 0.008307,\n",
       "       'left': 0.056594,\n",
       "       'right': {'index': 0,\n",
       "        'value': 0.000234,\n",
       "        'left': 0.082063,\n",
       "        'right': 0.060903}}}}}}}}"
      ]
     },
     "execution_count": 10,
     "metadata": {},
     "output_type": "execute_result"
    }
   ],
   "source": [
    "mymat = np.mat(load_data('ex00.txt'))\n",
    "mytree = create_tree(mymat, ops=(0,1))\n",
    "mytest = np.mat(load_data('ex2test.txt'))\n",
    "prune(mytree, mytest)"
   ]
  },
  {
   "cell_type": "markdown",
   "metadata": {},
   "source": [
    "## 模型树\n",
    "上节的树只是简单地将叶节点设定为均值，本节的树是将叶子节点设定为分段线性函数。\n",
    "模型树的可解释性是它优于回归树的特点之一。"
   ]
  },
  {
   "cell_type": "code",
   "execution_count": 11,
   "metadata": {},
   "outputs": [
    {
     "data": {
      "text/plain": [
       "<matplotlib.collections.PathCollection at 0x1a4b67437c8>"
      ]
     },
     "execution_count": 11,
     "metadata": {},
     "output_type": "execute_result"
    },
    {
     "data": {
      "image/png": "[encoded data removed]",
      "text/plain": [
       "<Figure size 432x288 with 1 Axes>"
      ]
     },
     "metadata": {
      "needs_background": "light"
     },
     "output_type": "display_data"
    }
   ],
   "source": [
    "mymat2 = np.mat(load_data('exp2.txt'))\n",
    "fig = plt.figure()\n",
    "ax = fig.add_subplot(111)\n",
    "ax.scatter(mymat2[:, 0].T.A[0], mymat2[:, 1].T.A[0])"
   ]
  },
  {
   "cell_type": "code",
   "execution_count": 12,
   "metadata": {},
   "outputs": [],
   "source": [
    "def linear_solve(dataset):   \n",
    "    m,n = np.shape(dataset)\n",
    "    X = np.mat(np.ones((m,n))); Y = np.mat(np.ones((m,1)))\n",
    "    X[:,1:n] = dataset[:,0:n-1]; Y = dataset[:,-1]\n",
    "    xTx = X.T*X\n",
    "    if np.linalg.det(xTx) == 0.0:\n",
    "        raise NameError('This matrix is singular, cannot do inverse,\\n\\\n",
    "        try increasing the second value of ops')\n",
    "    ws = xTx.I * (X.T * Y)\n",
    "    return ws,X,Y\n",
    "\n",
    "def model_leaf(dataset):\n",
    "    ws,X,Y = linear_solve(dataset)\n",
    "    return ws\n",
    "\n",
    "def model_err(dataset):\n",
    "    ws,X,Y = linear_solve(dataset)\n",
    "    yHat = X * ws\n",
    "    return sum(np.power(Y - yHat,2))"
   ]
  },
  {
   "cell_type": "code",
   "execution_count": 13,
   "metadata": {},
   "outputs": [
    {
     "data": {
      "text/plain": [
       "{'index': 0,\n",
       " 'value': 0.285477,\n",
       " 'left': matrix([[1.69855694e-03],\n",
       "         [1.19647739e+01]]),\n",
       " 'right': matrix([[3.46877936],\n",
       "         [1.18521743]])}"
      ]
     },
     "execution_count": 13,
     "metadata": {},
     "output_type": "execute_result"
    }
   ],
   "source": [
    "create_tree(mymat2, model_leaf, model_err, (1,10))"
   ]
  },
  {
   "cell_type": "markdown",
   "metadata": {},
   "source": [
    "## 树回归和标准回归的比较"
   ]
  },
  {
   "cell_type": "code",
   "execution_count": 14,
   "metadata": {},
   "outputs": [],
   "source": [
    "def reg_tree_eval(model, indata):\n",
    "    return float(model)\n",
    "\n",
    "\n",
    "def model_tree_eval(model, indata):\n",
    "    n = np.shape(indata)[1]\n",
    "    x = np.mat(np.ones((1, n+1)))\n",
    "    x[:, 1: n+1] = indata\n",
    "    return float(x * model)\n",
    "\n",
    "\n",
    "def tree_forecast(tree, indata, model_eval = reg_tree_eval):\n",
    "    if not is_tree(tree):\n",
    "        return model_eval(tree, indata)\n",
    "    if indata[tree['index']] > tree['value']:\n",
    "        if is_tree(tree['left']):\n",
    "            return tree_forecast(tree['left'], indata, model_eval)\n",
    "        else:\n",
    "            return model_eval(tree['left'], indata)\n",
    "    else:\n",
    "        if is_tree(tree['right']):\n",
    "            return tree_forecast(tree['right'], indata, model_eval)\n",
    "        else:\n",
    "            return model_eval(tree['right'], indata)\n",
    "\n",
    "        \n",
    "def create_forecast(tree, testdata, model_eval = reg_tree_eval):\n",
    "    m = len(testdata)\n",
    "    yhat = np.mat(np.zeros((m, 1)))\n",
    "    for i in range(m):\n",
    "        yhat[i, 0] = tree_forecast(tree, np.mat(testdata[i]), model_eval)\n",
    "    return yhat"
   ]
  },
  {
   "cell_type": "code",
   "execution_count": 15,
   "metadata": {},
   "outputs": [],
   "source": [
    "train_mat = np.mat(load_data('bikeSpeedVsIq_train.txt'))\n",
    "test_mat = np.mat(load_data('bikeSpeedVsIq_test.txt'))"
   ]
  },
  {
   "cell_type": "code",
   "execution_count": 16,
   "metadata": {},
   "outputs": [
    {
     "data": {
      "text/plain": [
       "<matplotlib.collections.PathCollection at 0x1a4b680f2c8>"
      ]
     },
     "execution_count": 16,
     "metadata": {},
     "output_type": "execute_result"
    },
    {
     "data": {
      "image/png": "[encoded data removed]",
      "text/plain": [
       "<Figure size 432x288 with 1 Axes>"
      ]
     },
     "metadata": {
      "needs_background": "light"
     },
     "output_type": "display_data"
    }
   ],
   "source": [
    "fig = plt.figure()\n",
    "ax = fig.add_subplot(111)\n",
    "ax.scatter(train_mat[:, 0].T.A[0], train_mat[:, 1].T.A[0])"
   ]
  },
  {
   "cell_type": "markdown",
   "metadata": {},
   "source": [
    "### 创建回归树"
   ]
  },
  {
   "cell_type": "code",
   "execution_count": 22,
   "metadata": {},
   "outputs": [
    {
     "data": {
      "text/plain": [
       "0.9640852318222141"
      ]
     },
     "execution_count": 22,
     "metadata": {},
     "output_type": "execute_result"
    }
   ],
   "source": [
    "mytree1 = create_tree(train_mat, ops=(1,20))\n",
    "yhat1  = create_forecast(mytree1, test_mat[:, 0])\n",
    "np.corrcoef(yhat1, test_mat[:, 1], rowvar=0)[0, 1]"
   ]
  },
  {
   "cell_type": "markdown",
   "metadata": {},
   "source": [
    "### 创建模型树"
   ]
  },
  {
   "cell_type": "code",
   "execution_count": 24,
   "metadata": {},
   "outputs": [
    {
     "data": {
      "text/plain": [
       "0.9760412191380593"
      ]
     },
     "execution_count": 24,
     "metadata": {},
     "output_type": "execute_result"
    }
   ],
   "source": [
    "mytree2 = create_tree(train_mat, model_leaf, model_err, (1,20))\n",
    "yhat2 = create_forecast(mytree2, test_mat[:, 0], model_tree_eval)\n",
    "np.corrcoef(yhat2, test_mat[:, 1], rowvar=0)[0, 1]"
   ]
  },
  {
   "cell_type": "code",
   "execution_count": 25,
   "metadata": {},
   "outputs": [
    {
     "data": {
      "text/plain": [
       "matrix([[37.58916794],\n",
       "        [ 6.18978355]])"
      ]
     },
     "execution_count": 25,
     "metadata": {},
     "output_type": "execute_result"
    }
   ],
   "source": [
    "ws,x,y = linear_solve(train_mat)\n",
    "ws"
   ]
  },
  {
   "cell_type": "code",
   "execution_count": 26,
   "metadata": {},
   "outputs": [
    {
     "data": {
      "text/plain": [
       "0.9434684235674763"
      ]
     },
     "execution_count": 26,
     "metadata": {},
     "output_type": "execute_result"
    }
   ],
   "source": [
    "for i in range(np.shape(test_mat)[0]):\n",
    "    yhat[i] = test_mat[i, 0] * ws[1,0] + ws[0,0]\n",
    "np.corrcoef(yhat, test_mat[:, 1], rowvar=0)[0, 1]"
   ]
  },
  {
   "cell_type": "markdown",
   "metadata": {},
   "source": [
    "## 使用Tkinter进行算法可视化（略）"
   ]
  },
  {
   "cell_type": "code",
   "execution_count": null,
   "metadata": {},
   "outputs": [],
   "source": []
  }
 ],
 "metadata": {
  "kernelspec": {
   "display_name": "Python 3",
   "language": "python",
   "name": "python3"
  },
  "language_info": {
   "codemirror_mode": {
    "name": "ipython",
    "version": 3
   },
   "file_extension": ".py",
   "mimetype": "text/x-python",
   "name": "python",
   "nbconvert_exporter": "python",
   "pygments_lexer": "ipython3",
   "version": "3.7.6"
  }
 },
 "nbformat": 4,
 "nbformat_minor": 4
}
